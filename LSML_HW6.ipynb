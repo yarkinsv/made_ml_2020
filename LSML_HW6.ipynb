{
 "cells": [
  {
   "cell_type": "code",
   "execution_count": 35,
   "metadata": {},
   "outputs": [],
   "source": [
    "import org.apache.spark.sql._\n",
    "import spark.implicits._\n",
    "import org.apache.spark.sql.types._\n",
    "import org.apache.spark.sql.functions._"
   ]
  },
  {
   "cell_type": "code",
   "execution_count": 6,
   "metadata": {},
   "outputs": [
    {
     "data": {
      "text/plain": [
       "spark = org.apache.spark.sql.SparkSession@2d70378e\n"
      ]
     },
     "metadata": {},
     "output_type": "display_data",
     "source": "user"
    },
    {
     "data": {
      "text/plain": [
       "org.apache.spark.sql.SparkSession@2d70378e"
      ]
     },
     "execution_count": 6,
     "metadata": {},
     "output_type": "execute_result"
    }
   ],
   "source": [
    "val spark = SparkSession.builder()\n",
    "    // адрес мастера\n",
    "    .master(\"local[*]\")\n",
    "    // имя приложения в интерфейсе спарка\n",
    "    .appName(\"made-demo\")\n",
    "//     .config(\"spark.executor.memory\",  \"2g\")\n",
    "//     .config(\"spark.executor.cores\", \"2\")\n",
    "//     .config(\"spark.driver.memory\", \"2g\")\n",
    "    .getOrCreate()"
   ]
  },
  {
   "cell_type": "code",
   "execution_count": 67,
   "metadata": {},
   "outputs": [
    {
     "data": {
      "text/plain": [
       "dfReviews = [Review: string, Rating: int]\n"
      ]
     },
     "metadata": {},
     "output_type": "display_data",
     "source": "user"
    },
    {
     "data": {
      "text/plain": [
       "[Review: string, Rating: int]"
      ]
     },
     "execution_count": 67,
     "metadata": {},
     "output_type": "execute_result"
    }
   ],
   "source": [
    "val dfReviews = spark.read.options(Map(\n",
    "    \"header\" -> \"true\",\n",
    "    \"inferSchema\" -> \"true\"\n",
    ")).csv(\"tripadvisor_hotel_reviews.csv\")"
   ]
  },
  {
   "cell_type": "code",
   "execution_count": 223,
   "metadata": {},
   "outputs": [
    {
     "data": {
      "text/plain": [
       "D = 20491\n"
      ]
     },
     "metadata": {},
     "output_type": "display_data",
     "source": "user"
    },
    {
     "data": {
      "text/plain": [
       "20491"
      ]
     },
     "execution_count": 223,
     "metadata": {},
     "output_type": "execute_result"
    }
   ],
   "source": [
    "val D = dfReviews.count"
   ]
  },
  {
   "cell_type": "code",
   "execution_count": 174,
   "metadata": {},
   "outputs": [
    {
     "data": {
      "text/plain": [
       "dfPreprocessed = [review: string, doc_id: bigint]\n"
      ]
     },
     "metadata": {},
     "output_type": "display_data",
     "source": "user"
    },
    {
     "data": {
      "text/plain": [
       "warning: there was one deprecation warning; re-run with -deprecation for details\n"
      ]
     },
     "metadata": {},
     "output_type": "display_data",
     "source": "user"
    },
    {
     "data": {
      "text/plain": [
       "[review: string, doc_id: bigint]"
      ]
     },
     "execution_count": 174,
     "metadata": {},
     "output_type": "execute_result"
    }
   ],
   "source": [
    "val dfPreprocessed = dfReviews\n",
    "    .select(regexp_replace(lower(col(\"Review\")), \"[^a-z0-9_\\\\s]\", \"\").as(\"review\"))\n",
    "    .withColumn(\"doc_id\", monotonicallyIncreasingId)"
   ]
  },
  {
   "cell_type": "code",
   "execution_count": 248,
   "metadata": {},
   "outputs": [
    {
     "name": "stdout",
     "output_type": "stream",
     "text": [
      "+--------------------+------+\n",
      "|              review|doc_id|\n",
      "+--------------------+------+\n",
      "|nice hotel expens...|     0|\n",
      "|ok nothing specia...|     1|\n",
      "|nice rooms not 4 ...|     2|\n",
      "|unique great stay...|     3|\n",
      "|great stay great ...|     4|\n",
      "|love monaco staff...|     5|\n",
      "|cozy stay rainy c...|     6|\n",
      "|excellent staff h...|     7|\n",
      "|hotel stayed hote...|     8|\n",
      "|excellent stayed ...|     9|\n",
      "|poor value stayed...|    10|\n",
      "|nice value seattl...|    11|\n",
      "|nice hotel good l...|    12|\n",
      "|nice hotel not ni...|    13|\n",
      "|great hotel night...|    14|\n",
      "|horrible customer...|    15|\n",
      "|disappointed say ...|    16|\n",
      "|fantastic stay mo...|    17|\n",
      "|good choice hotel...|    18|\n",
      "|hmmmmm say really...|    19|\n",
      "+--------------------+------+\n",
      "only showing top 20 rows\n",
      "\n"
     ]
    }
   ],
   "source": [
    "dfPreprocessed.show"
   ]
  },
  {
   "cell_type": "code",
   "execution_count": 202,
   "metadata": {},
   "outputs": [
    {
     "data": {
      "text/plain": [
       "dfTokens = [doc_id: bigint, token: string]\n"
      ]
     },
     "metadata": {},
     "output_type": "display_data",
     "source": "user"
    },
    {
     "data": {
      "text/plain": [
       "[doc_id: bigint, token: string]"
      ]
     },
     "execution_count": 202,
     "metadata": {},
     "output_type": "execute_result"
    }
   ],
   "source": [
    "val dfTokens = dfPreprocessed\n",
    "    .flatMap(row => row.getAs[String](\"review\").split(\" \").map(t => (row.getAs[Long](\"doc_id\"), t)))\n",
    "    .withColumnRenamed(\"_1\", \"doc_id\")\n",
    "    .withColumnRenamed(\"_2\", \"token\")"
   ]
  },
  {
   "cell_type": "code",
   "execution_count": 249,
   "metadata": {},
   "outputs": [
    {
     "name": "stdout",
     "output_type": "stream",
     "text": [
      "+------+-----------+\n",
      "|doc_id|      token|\n",
      "+------+-----------+\n",
      "|     0|       nice|\n",
      "|     0|      hotel|\n",
      "|     0|  expensive|\n",
      "|     0|    parking|\n",
      "|     0|        got|\n",
      "|     0|       good|\n",
      "|     0|       deal|\n",
      "|     0|       stay|\n",
      "|     0|      hotel|\n",
      "|     0|anniversary|\n",
      "|     0|    arrived|\n",
      "|     0|       late|\n",
      "|     0|    evening|\n",
      "|     0|       took|\n",
      "|     0|     advice|\n",
      "|     0|   previous|\n",
      "|     0|    reviews|\n",
      "|     0|        did|\n",
      "|     0|      valet|\n",
      "|     0|    parking|\n",
      "+------+-----------+\n",
      "only showing top 20 rows\n",
      "\n"
     ]
    }
   ],
   "source": [
    "dfTokens.show"
   ]
  },
  {
   "cell_type": "code",
   "execution_count": 211,
   "metadata": {},
   "outputs": [
    {
     "data": {
      "text/plain": [
       "dfDocSize = [doc_id: bigint, doc_size: bigint]\n"
      ]
     },
     "metadata": {},
     "output_type": "display_data",
     "source": "user"
    },
    {
     "data": {
      "text/plain": [
       "[doc_id: bigint, doc_size: bigint]"
      ]
     },
     "execution_count": 211,
     "metadata": {},
     "output_type": "execute_result"
    }
   ],
   "source": [
    "val dfDocSize = dfTokens\n",
    "    .groupBy(\"doc_id\")\n",
    "    .count\n",
    "    .withColumnRenamed(\"count\", \"doc_size\")"
   ]
  },
  {
   "cell_type": "code",
   "execution_count": 250,
   "metadata": {},
   "outputs": [
    {
     "name": "stdout",
     "output_type": "stream",
     "text": [
      "+------+--------+\n",
      "|doc_id|doc_size|\n",
      "+------+--------+\n",
      "|    26|      42|\n",
      "|    29|      34|\n",
      "|   474|     112|\n",
      "|   964|      83|\n",
      "|  1677|     117|\n",
      "|  1697|     242|\n",
      "|  1806|     100|\n",
      "|  1950|     104|\n",
      "|  2040|      98|\n",
      "|  2214|     126|\n",
      "|  2250|     163|\n",
      "|  2453|     125|\n",
      "|  2509|      51|\n",
      "|  2529|      60|\n",
      "|  2927|     751|\n",
      "|  3091|     489|\n",
      "|  3506|      31|\n",
      "|  3764|      90|\n",
      "|  4590|     145|\n",
      "|  4823|      20|\n",
      "+------+--------+\n",
      "only showing top 20 rows\n",
      "\n"
     ]
    }
   ],
   "source": [
    "dfDocSize.show"
   ]
  },
  {
   "cell_type": "code",
   "execution_count": 229,
   "metadata": {},
   "outputs": [
    {
     "data": {
      "text/plain": [
       "dfTF = [doc_id: bigint, token: string ... 3 more fields]\n"
      ]
     },
     "metadata": {},
     "output_type": "display_data",
     "source": "user"
    },
    {
     "data": {
      "text/plain": [
       "[doc_id: bigint, token: string ... 3 more fields]"
      ]
     },
     "execution_count": 229,
     "metadata": {},
     "output_type": "execute_result"
    }
   ],
   "source": [
    "val dfTF = dfTokens\n",
    "    .groupBy(\"doc_id\", \"token\")\n",
    "    .count\n",
    "    .join(dfDocSize, Seq(\"doc_id\"))\n",
    "    .withColumn(\"tf\", col(\"count\") / col(\"doc_size\"))"
   ]
  },
  {
   "cell_type": "code",
   "execution_count": 251,
   "metadata": {},
   "outputs": [
    {
     "name": "stdout",
     "output_type": "stream",
     "text": [
      "+------+------------+-----+--------+--------------------+\n",
      "|doc_id|       token|count|doc_size|                  tf|\n",
      "+------+------------+-----+--------+--------------------+\n",
      "|    26|     totally|    1|      42|0.023809523809523808|\n",
      "|    26|      lights|    1|      42|0.023809523809523808|\n",
      "|    26|      creepy|    1|      42|0.023809523809523808|\n",
      "|    26|       staff|    1|      42|0.023809523809523808|\n",
      "|    26|       loved|    1|      42|0.023809523809523808|\n",
      "|    26|        days|    1|      42|0.023809523809523808|\n",
      "|    26|       enjoy|    1|      42|0.023809523809523808|\n",
      "|    26|expectations|    1|      42|0.023809523809523808|\n",
      "|    26|       lever|    1|      42|0.023809523809523808|\n",
      "|    26|    bathroom|    1|      42|0.023809523809523808|\n",
      "|    26|        stay|    1|      42|0.023809523809523808|\n",
      "|    26|  extrememly|    1|      42|0.023809523809523808|\n",
      "|    26|      getway|    1|      42|0.023809523809523808|\n",
      "|    26|     enjoyed|    1|      42|0.023809523809523808|\n",
      "|    26|    shopping|    1|      42|0.023809523809523808|\n",
      "|    26|   overnight|    1|      42|0.023809523809523808|\n",
      "|    26|     contact|    1|      42|0.023809523809523808|\n",
      "|    26|       think|    1|      42|0.023809523809523808|\n",
      "|    26|     warwick|    2|      42|0.047619047619047616|\n",
      "|    26|        well|    1|      42|0.023809523809523808|\n",
      "+------+------------+-----+--------+--------------------+\n",
      "only showing top 20 rows\n",
      "\n"
     ]
    }
   ],
   "source": [
    "dfTF.show"
   ]
  },
  {
   "cell_type": "code",
   "execution_count": 230,
   "metadata": {},
   "outputs": [
    {
     "data": {
      "text/plain": [
       "dfDF = [token: string, df: bigint ... 1 more field]\n"
      ]
     },
     "metadata": {},
     "output_type": "display_data",
     "source": "user"
    },
    {
     "data": {
      "text/plain": [
       "[token: string, df: bigint ... 1 more field]"
      ]
     },
     "execution_count": 230,
     "metadata": {},
     "output_type": "execute_result"
    }
   ],
   "source": [
    "val dfDF = dfTF\n",
    "    .groupBy(\"token\")\n",
    "    .count\n",
    "    .orderBy(desc(\"count\"))\n",
    "    .limit(100)\n",
    "    .withColumnRenamed(\"count\", \"df\")\n",
    "    .withColumn(\"idf\", -log(col(\"df\") / D))"
   ]
  },
  {
   "cell_type": "code",
   "execution_count": 252,
   "metadata": {},
   "outputs": [
    {
     "name": "stdout",
     "output_type": "stream",
     "text": [
      "+---------+-----+-------------------+\n",
      "|    token|   df|                idf|\n",
      "+---------+-----+-------------------+\n",
      "|    hotel|16319|0.22765569220589793|\n",
      "|     room|14050|0.37736336957494065|\n",
      "|      not|12123| 0.5248812905902492|\n",
      "|    staff|11522| 0.5757275140445042|\n",
      "|    great|11020| 0.6202739616299271|\n",
      "|     stay|10094| 0.7080445774366249|\n",
      "|     good| 9277|  0.792447546683561|\n",
      "|   stayed| 8549| 0.8741714483105988|\n",
      "|       nt| 8379| 0.8942571897235461|\n",
      "|    rooms| 8336| 0.8994022803436844|\n",
      "| location| 8164| 0.9202515204070972|\n",
      "|     just| 7736| 0.9741010072037022|\n",
      "|    clean| 7648| 0.9855415896055952|\n",
      "|     nice| 7415|    1.0164807897648|\n",
      "|      did| 7204|  1.045349338040986|\n",
      "|breakfast| 7111| 1.0583428844533145|\n",
      "|       no| 6809|  1.101740498853866|\n",
      "|    night| 6328| 1.1750015348893428|\n",
      "|  service| 6228| 1.1909305113829436|\n",
      "|     time| 6151| 1.2033710951284642|\n",
      "+---------+-----+-------------------+\n",
      "only showing top 20 rows\n",
      "\n"
     ]
    }
   ],
   "source": [
    "dfDF.show"
   ]
  },
  {
   "cell_type": "code",
   "execution_count": 239,
   "metadata": {},
   "outputs": [
    {
     "data": {
      "text/plain": [
       "dfTFIDF = [doc_id: bigint, token: string ... 1 more field]\n"
      ]
     },
     "metadata": {},
     "output_type": "display_data",
     "source": "user"
    },
    {
     "data": {
      "text/plain": [
       "[doc_id: bigint, token: string ... 1 more field]"
      ]
     },
     "execution_count": 239,
     "metadata": {},
     "output_type": "execute_result"
    }
   ],
   "source": [
    "val dfTFIDF = dfTF\n",
    "    .join(dfDF, Seq(\"token\"), \"inner\")\n",
    "    .withColumn(\"tfidf\", col(\"tf\") * col(\"idf\"))\n",
    "    .select(\"doc_id\", \"token\", \"tfidf\")"
   ]
  },
  {
   "cell_type": "code",
   "execution_count": null,
   "metadata": {},
   "outputs": [],
   "source": [
    "dfTFIDF.show"
   ]
  },
  {
   "cell_type": "markdown",
   "metadata": {},
   "source": [
    "Посмотрим для примера на скоры tf/idf для документа номер 100"
   ]
  },
  {
   "cell_type": "code",
   "execution_count": 240,
   "metadata": {},
   "outputs": [
    {
     "name": "stdout",
     "output_type": "stream",
     "text": [
      "+------+--------+--------------------+\n",
      "|doc_id|   token|               tfidf|\n",
      "+------+--------+--------------------+\n",
      "|   100|   place| 0.02594739662507109|\n",
      "|   100|    just|0.018732711676994272|\n",
      "|   100|   price| 0.03682171026861379|\n",
      "|   100|    like|0.025907644950381416|\n",
      "|   100|   rooms| 0.01729619769891701|\n",
      "|   100|  hotels| 0.03545167188518298|\n",
      "|   100|   hotel| 0.01751197632353061|\n",
      "|   100|   close| 0.03843489532750064|\n",
      "|   100|location| 0.03539428924642682|\n",
      "|   100|    make| 0.03649966392107712|\n",
      "|   100|     not| 0.02018774194577882|\n",
      "|   100|    stay|0.013616241873781248|\n",
      "|   100|friendly|0.024159286421330115|\n",
      "|   100|  little| 0.02957114689578998|\n",
      "|   100|   great| 0.03578503624788041|\n",
      "|   100|   staff|0.022143365924788622|\n",
      "|   100|   small| 0.02773547960892019|\n",
      "|   100|    good|0.015239375897760789|\n",
      "+------+--------+--------------------+\n",
      "\n"
     ]
    }
   ],
   "source": [
    "dfTFIDF\n",
    "    .filter(col(\"doc_id\") === 100)\n",
    "    .show"
   ]
  },
  {
   "cell_type": "code",
   "execution_count": 246,
   "metadata": {},
   "outputs": [
    {
     "data": {
      "text/plain": [
       "tfidfData = Array([26,staff,0.013707797953440575], [26,loved,0.04987936970980875], [26,days,0.04810612940263059], [26,bathroom,0.03743717021626664], [26,stay,0.016858204224681542], [26,think,0.05163222871021516], [26,service,0.02835548836626056], [26,hotel,0.005420373623949951], [26,clean,0.02346527594299036], [26,room,0.008984842132736683], [26,friendly,0.05982299494805551], [26,going,0.04926429496942955], [26,really,0.034153114128188736], [26,wonderful,0.09091026568052779], [26,stayed,0.020813605912157113], [29,location,0.027066221188444036], [29,rooms,0.026453008245402483], [29,place,0.03968425366187343], [29,4,0.06061819880000307], [29,recommend,0.046335955767965564], [29,not,0.01543768501736027], [29,excellent,0.04510646619148792], [29,street,0.0588...\n"
      ]
     },
     "metadata": {},
     "output_type": "display_data",
     "source": "user"
    },
    {
     "data": {
      "text/plain": [
       "Array([26,staff,0.013707797953440575], [26,loved,0.04987936970980875], [26,days,0.04810612940263059], [26,bathroom,0.03743717021626664], [26,stay,0.016858204224681542], [26,think,0.05163222871021516], [26,service,0.02835548836626056], [26,hotel,0.005420373623949951], [26,clean,0.02346527594299036], [26,room,0.008984842132736683], [26,friendly,0.05982299494805551], [26,going,0.04926429496942955], [26,really,0.034153114128188736], [26,wonderful,0.09091026568052779], [26,stayed,0.020813605912157113], [29,location,0.027066221188444036], [29,rooms,0.026453008245402483], [29,place,0.03968425366187343], [29,4,0.06061819880000307], [29,recommend,0.046335955767965564], [29,not,0.01543768501736027], [29,excellent,0.04510646619148792], [29,street,0.0588..."
      ]
     },
     "execution_count": 246,
     "metadata": {},
     "output_type": "execute_result"
    }
   ],
   "source": [
    "val tfidfData = dfTFIDF.collect"
   ]
  }
 ],
 "metadata": {
  "kernelspec": {
   "display_name": "Apache Toree - Scala",
   "language": "scala",
   "name": "apache_toree_scala"
  },
  "language_info": {
   "codemirror_mode": "text/x-scala",
   "file_extension": ".scala",
   "mimetype": "text/x-scala",
   "name": "scala",
   "pygments_lexer": "scala",
   "version": "2.11.12"
  }
 },
 "nbformat": 4,
 "nbformat_minor": 4
}
