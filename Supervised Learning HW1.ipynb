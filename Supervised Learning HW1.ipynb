{
 "cells": [
  {
   "cell_type": "code",
   "execution_count": 1,
   "metadata": {},
   "outputs": [],
   "source": [
    "import numpy as np\n",
    "\n",
    "from gym.envs.toy_text.blackjack import BlackjackEnv, sum_hand, is_bust, cmp, score, is_natural\n",
    "import seaborn as sns\n",
    "import matplotlib.pyplot as plt\n",
    "from collections import namedtuple\n",
    "import itertools"
   ]
  },
  {
   "cell_type": "code",
   "execution_count": 70,
   "metadata": {},
   "outputs": [],
   "source": [
    "State = namedtuple('State', ['player_sum', 'dealer_card', 'usable_ace', 'memory'])\n",
    "\n",
    "class RunningStatistic:\n",
    "    def __init__(self, default_value):\n",
    "        self.seen = 0\n",
    "        self._value = None\n",
    "        self.default_value = default_value\n",
    "\n",
    "    @property\n",
    "    def value(self):\n",
    "        return self._value if self.seen else self.default_value\n",
    "\n",
    "    def feed(self, value, num_samples):\n",
    "        if not num_samples:\n",
    "            return\n",
    "        if not self.seen:\n",
    "            self._value = value\n",
    "        else:\n",
    "            self._value /= (1.0 + num_samples / self.seen)\n",
    "            self._value += value / (1.0 + self.seen / num_samples)\n",
    "        self.seen += num_samples\n",
    "\n",
    "    def reset(self):\n",
    "        self.seen = 0\n",
    "        self._value = None\n",
    "        \n",
    "        \n",
    "def draw_card(np_random, deck):\n",
    "    return int(np_random.choice([1, 2, 3, 4, 5, 6, 7, 8, 9, 10], p=deck / deck.sum()))        \n",
    "\n",
    "\n",
    "def step_with_memory(self, action, deck):\n",
    "    assert self.action_space.contains(action)\n",
    "    if action:  # hit: add a card to players hand and return\n",
    "        self.player.append(draw_card(self.np_random, deck))\n",
    "        if is_bust(self.player):\n",
    "            done = True\n",
    "            reward = -1.\n",
    "        else:\n",
    "            done = False\n",
    "            reward = 0.\n",
    "    else:  # stick: play out the dealers hand, and score\n",
    "        done = True\n",
    "        while sum_hand(self.dealer) < 17:\n",
    "            self.dealer.append(draw_card(self.np_random, deck))\n",
    "        reward = cmp(score(self.player), score(self.dealer))\n",
    "        if self.natural and is_natural(self.player) and reward == 1.:\n",
    "            reward = 1.5\n",
    "    return self._get_obs(), reward, done, {}\n",
    "        \n",
    "\n",
    "class Agent:\n",
    "    def __init__(self, actions=(-1, 1), allow_split=False):\n",
    "        if allow_split:\n",
    "            actions += (-1,)\n",
    "        self.q = {\n",
    "            State(player_sum, dealer_card, usable_ace, cards_left): tuple(RunningStatistic(x) for x in actions) \n",
    "            for player_sum in range(2, 22)\n",
    "            for dealer_card in range(1, 11)\n",
    "            for usable_ace in [True, False]\n",
    "            for cards_left in range(-50, 51)\n",
    "        }\n",
    "        self.train = False\n",
    "        self.actions_num = len(actions)\n",
    "        self.episode = []\n",
    "        self.allow_split = allow_split\n",
    "        \n",
    "    def _act_train(self, state):\n",
    "        raise NotImplementedError()\n",
    "        \n",
    "    def _q(self, state):\n",
    "        return np.array([x.value for x in self.q[state]])\n",
    "    \n",
    "    def _greedy(self, state, can_split=False):\n",
    "        q = self._q(state)\n",
    "        if self.allow_split and not can_split:\n",
    "            return np.argmax(q[:-1])\n",
    "        return np.argmax(q)\n",
    "    \n",
    "    def set_train(self, train):\n",
    "        self.train = train\n",
    "        \n",
    "    def _state(self, observation):\n",
    "        player_sum, dealer_card, usable_ace, cards_left = observation\n",
    "        return State(player_sum, dealer_card, usable_ace, 0)\n",
    "    \n",
    "    def act(self, observation, can_split=False):\n",
    "        state = self._state(observation)\n",
    "        if state not in self.q:\n",
    "            print(state)\n",
    "            return False\n",
    "        if self.train:\n",
    "            action = self._act_train(state, can_split)\n",
    "            self.episode.append((state, action))\n",
    "            return action\n",
    "        else:\n",
    "            return self._greedy(state)\n",
    "        \n",
    "    def propagate_reward(self, reward):\n",
    "#         print(self.episode, reward)\n",
    "        for state, action in self.episode:    \n",
    "            self.q[state][action].feed(reward, 1)\n",
    "        self.episode = []\n",
    "        \n",
    "    def strategy(self):\n",
    "        with_usable_ace = np.array([self._greedy(State(player_sum, dealer_card, True, 0)) \n",
    "                                    for dealer_card in range(1, 11)\n",
    "                                    for player_sum in range(2, 22)]).reshape(10, -1)\n",
    "        wo_usable_ace = np.array([self._greedy(State(player_sum, dealer_card, False, 0)) \n",
    "                                  for dealer_card in range(1, 11)\n",
    "                                  for player_sum in range(2, 22)]).reshape(10, -1)\n",
    "        return with_usable_ace, wo_usable_ace\n",
    "    \n",
    "        \n",
    "class SimpleAgent(Agent):\n",
    "    def __init__(self):\n",
    "        super().__init__()\n",
    "        for state in self.q:\n",
    "            if state.player_sum >= 19:\n",
    "                self.q[state] = (RunningStatistic(1.), RunningStatistic(-1.))\n",
    "    \n",
    "    \n",
    "class MCControlAgent(Agent):\n",
    "    def __init__(self, epsilon, allow_double=False, with_memory=False, allow_split=False):\n",
    "        actions = (-1, 1)\n",
    "        if allow_double:\n",
    "            actions += (-1,)\n",
    "        super().__init__(actions, allow_split)\n",
    "        for state in self.q:\n",
    "            self.q[state] = tuple(RunningStatistic(np.random.rand()) for _ in range(self.actions_num))\n",
    "        self.epsilon = epsilon\n",
    "        self.with_memory = with_memory\n",
    "        self.allow_split = allow_split\n",
    "        \n",
    "    def _state(self, observation):\n",
    "        player_sum, dealer_card, usable_ace, cards_left = observation\n",
    "        return State(player_sum, dealer_card, usable_ace, 0 if not self.with_memory else cards_left)\n",
    "    \n",
    "    def _act_train(self, state, can_split=False):\n",
    "        actions_num = self.actions_num \n",
    "        if self.allow_split and not can_split:\n",
    "            actions_num -= 1\n",
    "        if np.random.rand() < self.epsilon or any(not x.seen for x in self.q[state][:actions_num]):\n",
    "            return np.random.randint(0, actions_num)            \n",
    "        return self._greedy(state, can_split)\n",
    "        \n",
    "\n",
    "class BlackjackSimulator:\n",
    "    def __init__(self, agent, natural=True, allow_double=False, with_memory=False, allow_split=False):\n",
    "        self.agent = agent\n",
    "        self.env = BlackjackEnv(natural)\n",
    "        self.allow_double = allow_double\n",
    "        self.with_memory = with_memory\n",
    "        self.deck = np.ones(10) * 4\n",
    "        self.deck[-1] = 16\n",
    "        self.cards_value = np.array([-1, 0.5, 1, 1, 1.5, 1, 0.5, 0, -0.5, -1])\n",
    "        if self.with_memory:\n",
    "            self.env.step = step_with_memory\n",
    "        self.allow_split = allow_split\n",
    "        \n",
    "    \n",
    "    def _reset(self):\n",
    "        if self.with_memory and self.deck.sum() < 15:\n",
    "            self.deck = np.ones(10) * 4\n",
    "            self.deck[-1] = 16      \n",
    "            \n",
    "        if self.with_memory:\n",
    "            deck = np.array([-1])\n",
    "            while np.any(deck < 0):\n",
    "                observation = self.env.reset()\n",
    "                deck = self.deck.copy()\n",
    "                for i in self.env.dealer + self.env.player:\n",
    "                    deck[i - 1] -= 1\n",
    "            for i in self.env.dealer[:1] + self.env.player:\n",
    "                self.deck[i - 1] -= 1\n",
    "            return observation\n",
    "            \n",
    "        return self.env.reset()\n",
    "    \n",
    "    \n",
    "    def _hit(self):        \n",
    "        if self.with_memory:\n",
    "            observation, _, done, _ = step_with_memory(self.env, True, self.deck)\n",
    "            while self.deck[self.env.player[-1] - 1] <= (0 if self.env.player[-1] != self.env.dealer[1] else 1):\n",
    "                self.env.player = self.env.player[:-1]\n",
    "                observation, _, done, _ = step_with_memory(self.env, True, self.deck)\n",
    "            self.deck[self.env.player[-1] - 1] -= 1            \n",
    "        else:\n",
    "            observation, _, done, _ = self.env.step(True)\n",
    "        return observation, done\n",
    "        \n",
    "        \n",
    "    def _stick(self):\n",
    "        if self.with_memory:\n",
    "            deck = np.array([-1])\n",
    "            while np.any(deck < 0):\n",
    "                deck = self.deck.copy()\n",
    "                self.env.dealer = self.env.dealer[:2]\n",
    "                _, reward, _, _ =  step_with_memory(self.env, False, self.deck)\n",
    "                for i in self.env.dealer[1:]:\n",
    "                    deck[i - 1] -= 1\n",
    "            for i in self.env.dealer[1:]:\n",
    "                self.deck[i - 1] -= 1\n",
    "        else:\n",
    "            _, reward, _, _ = self.env.step(False)\n",
    "        return reward\n",
    "    \n",
    "        \n",
    "    def _observation(self, observation):\n",
    "        if self.with_memory:\n",
    "            return observation + (int(2 * (self.deck @ self.cards_value)),)\n",
    "        else:\n",
    "            return observation + (0,)\n",
    "        \n",
    "    def run_game(self, train=False):\n",
    "        self.agent.set_train(train)\n",
    "        observation = self._reset()\n",
    "        done = False\n",
    "        splitted_card = None\n",
    "        \n",
    "        i = 1\n",
    "        action = self.agent.act(self._observation(observation), self.allow_split and (self.env.player[0] == self.env.player[1]))\n",
    "        if self.allow_split and action == self.agent.actions_num - 1:\n",
    "            splitted_card = self.env.player[0]\n",
    "            i = 2\n",
    "            \n",
    "        for j in range(i):\n",
    "            if splitted_card:\n",
    "                self.env.player = [splitted_card]\n",
    "                action = 1\n",
    "            while action == 1 and not done:\n",
    "                if self.deck.sum() == 1:\n",
    "                    return []\n",
    "                observation, done = self._hit()\n",
    "                if not done:\n",
    "                    action = self.agent.act(self._observation(observation))                \n",
    "            if action == 2 and self.allow_double:\n",
    "                if self.deck.sum() == 1:\n",
    "                    return []\n",
    "                self._hit()\n",
    "                \n",
    "            if j == 0:\n",
    "                reward = -1\n",
    "                if not done:\n",
    "                    if self.deck.sum() == 1:\n",
    "                        return []\n",
    "                    reward = self._stick()\n",
    "                if action == 2 and self.allow_double:\n",
    "                    reward *= 2\n",
    "                if train:\n",
    "                    self.agent.propagate_reward(reward)\n",
    "            else:\n",
    "                reward_ = -1\n",
    "                if not done:\n",
    "                    reward_ = cmp(score(self.env.player), score(self.env.dealer))\n",
    "                    if self.env.natural and is_natural(self.env.player) and reward == 1.:\n",
    "                        reward_ = 1.5\n",
    "                if action == 2 and self.allow_double:\n",
    "                    reward_ *= 2\n",
    "                if train:\n",
    "                    self.agent.propagate_reward(reward_)\n",
    "        return [reward] if j == 0 else [reward, reward_]\n",
    "    \n",
    "    def eval_agent(self, iters=500000):\n",
    "        return np.array(list(itertools.chain.from_iterable([simulator.run_game(train=False) for _ in range(iters)]))).mean()\n",
    "    \n",
    "    def train_agent(self, rounds=15, train_iterations=500000, eval_iterations=200000):\n",
    "        x = [0]\n",
    "        y = [self.eval_agent(eval_iterations)]\n",
    "        print(f'Initial agent value: {y[-1]}')  \n",
    "        for i in range(rounds):\n",
    "            for _ in range(train_iterations):\n",
    "                self.run_game(train=True)\n",
    "            x.append((i + 1) * train_iterations)\n",
    "            y.append(self.eval_agent(eval_iterations))\n",
    "            print(f'Agent value after {x[-1]} iterations: {y[-1]}')\n",
    "        return np.array(x), np.array(y)\n",
    "    \n",
    "def plot_agent_strategy(agent):\n",
    "    data1, data2 = agent.strategy()\n",
    "\n",
    "    fig, (ax1, ax2) = plt.subplots(1, 2, figsize=(8, 8))\n",
    "    ax = sns.heatmap(data1.T, square=True, cbar=False, linewidths=.5, ax=ax1, annot=True, \n",
    "                     xticklabels=np.arange(1, 11), yticklabels=np.arange(2, 22))\n",
    "    ax.invert_yaxis()\n",
    "    ax.set_xlabel('dealer_card')\n",
    "    ax.set_ylabel('player_sum')\n",
    "    ax.set_title('Usable ace')\n",
    "\n",
    "    ax = sns.heatmap(data2.T, square=True, cbar=False, linewidths=.5, ax=ax2, annot=True,\n",
    "                     xticklabels=np.arange(1, 11), yticklabels=np.arange(2, 22))\n",
    "    ax.invert_yaxis()\n",
    "    ax.set_xlabel('dealer_card')\n",
    "    ax.set_ylabel('player_sum')\n",
    "    ax.set_title('No usable ace')    \n",
    "    "
   ]
  },
  {
   "cell_type": "markdown",
   "metadata": {},
   "source": [
    "Я реализовал класс BlackjackSimulator, и Agent - которые в совокупности позволяют агенту играть в игру и собирать статистику по этим играм. Я поддержал весь функционал, который нужен для разных пунктов задания, и сделал включение различных \"способностей\" игрока через параметы: allow_double, with_memory, allow_split"
   ]
  },
  {
   "cell_type": "code",
   "execution_count": 4,
   "metadata": {},
   "outputs": [
    {
     "data": {
      "text/plain": [
       "-0.179019"
      ]
     },
     "execution_count": 4,
     "metadata": {},
     "output_type": "execute_result"
    }
   ],
   "source": [
    "ARGS = {\n",
    "    'allow_double': False,\n",
    "    'with_memory': False,\n",
    "    'allow_split': False\n",
    "}\n",
    "simple_agent = SimpleAgent()\n",
    "simulator = BlackjackSimulator(simple_agent, **ARGS)\n",
    "simulator.eval_agent()"
   ]
  },
  {
   "cell_type": "code",
   "execution_count": null,
   "metadata": {},
   "outputs": [],
   "source": [
    "SimpleAgent - простой вариант агента, который добирает карты до тех пор, пока у него меньше 19 очков на руках."
   ]
  },
  {
   "cell_type": "code",
   "execution_count": 75,
   "metadata": {},
   "outputs": [
    {
     "data": {
      "image/png": "[encoded data removed]",
      "text/plain": [
       "<Figure size 576x576 with 2 Axes>"
      ]
     },
     "metadata": {
      "needs_background": "light"
     },
     "output_type": "display_data"
    }
   ],
   "source": [
    "plot_agent_strategy(simple_agent) # 0 - Stick, 1 - Hit"
   ]
  },
  {
   "cell_type": "markdown",
   "metadata": {},
   "source": [
    "simulator.eval_agent() - вызывает множество симуляций игр и выводит средний выигрыш. Получилось что у SimpleAgent'а средниий выигрыш оказался -0.179019. Интересно, что если всегда говорить Stick, то средний выигрыш будет порядка -0.16, т.е. даже получше, чем у такой наивной стратегии."
   ]
  },
  {
   "cell_type": "code",
   "execution_count": null,
   "metadata": {},
   "outputs": [],
   "source": []
  },
  {
   "cell_type": "markdown",
   "metadata": {},
   "source": [
    "Я реализовал обучение по алгоритму Monte Carlo Control с мягкой стратегией. Epsilon передается самому агенту и если он в режие train, то он с вероятностью epsilon будет возвращать случайный action, в остальных случаях будет совершенно самое выгодное действие исходя из текущей накомленной статистики."
   ]
  },
  {
   "cell_type": "code",
   "execution_count": 5,
   "metadata": {},
   "outputs": [
    {
     "name": "stdout",
     "output_type": "stream",
     "text": [
      "Initial agent value: -0.1685975\n",
      "Agent value after 500000 iterations: -0.051485\n",
      "Agent value after 1000000 iterations: -0.040395\n",
      "Agent value after 1500000 iterations: -0.03356\n",
      "Agent value after 2000000 iterations: -0.0347\n",
      "Agent value after 2500000 iterations: -0.030015\n",
      "Agent value after 3000000 iterations: -0.0316475\n",
      "Agent value after 3500000 iterations: -0.0324175\n",
      "Agent value after 4000000 iterations: -0.032395\n",
      "Agent value after 4500000 iterations: -0.025745\n",
      "Agent value after 5000000 iterations: -0.0303475\n",
      "Agent value after 5500000 iterations: -0.0258175\n",
      "Agent value after 6000000 iterations: -0.02812\n",
      "Agent value after 6500000 iterations: -0.028615\n",
      "Agent value after 7000000 iterations: -0.0282375\n",
      "Agent value after 7500000 iterations: -0.0247425\n"
     ]
    }
   ],
   "source": [
    "ARGS = {\n",
    "    'allow_double': False,\n",
    "    'with_memory': False,\n",
    "    'allow_split': False\n",
    "}\n",
    "mc_agent = MCControlAgent(0.01, **ARGS)\n",
    "simulator = BlackjackSimulator(mc_agent, **ARGS)\n",
    "simulator.train_agent()"
   ]
  },
  {
   "cell_type": "markdown",
   "metadata": {},
   "source": [
    "Я не стал делать тут график, просто периодически вывожу оценку выигрыша агента по ходу обучения, я запускаю отдельно eval стадию, чтобы перевести агента в режим train=False, и он всегда делал жадный выбор action. "
   ]
  },
  {
   "cell_type": "code",
   "execution_count": 76,
   "metadata": {},
   "outputs": [
    {
     "data": {
      "image/png": "[encoded data removed]",
      "text/plain": [
       "<Figure size 576x576 with 2 Axes>"
      ]
     },
     "metadata": {
      "needs_background": "light"
     },
     "output_type": "display_data"
    }
   ],
   "source": [
    "plot_agent_strategy(mc_agent) # 0 - Stick, 1 - Hit"
   ]
  },
  {
   "cell_type": "markdown",
   "metadata": {},
   "source": [
    "После обучения получилась гораздо более разнообразная картина у поведения агента, оказывается наличие туза очень сильно влияет на оптимальное решение, да и на карту дилера также смотреть небесполезно. Средний выигрыш у такой стратегии -0.0247425, что сильно лучше наивного агентаа, но мы все равно будем проигрывать у казино."
   ]
  },
  {
   "cell_type": "code",
   "execution_count": null,
   "metadata": {},
   "outputs": [],
   "source": []
  },
  {
   "cell_type": "code",
   "execution_count": 6,
   "metadata": {
    "scrolled": true
   },
   "outputs": [
    {
     "name": "stdout",
     "output_type": "stream",
     "text": [
      "Initial agent value: -0.1676775\n",
      "Agent value after 500000 iterations: -0.049175\n",
      "Agent value after 1000000 iterations: -0.0396675\n",
      "Agent value after 1500000 iterations: -0.02887\n",
      "Agent value after 2000000 iterations: -0.02889\n",
      "Agent value after 2500000 iterations: -0.0272825\n",
      "Agent value after 3000000 iterations: -0.0225825\n",
      "Agent value after 3500000 iterations: -0.0240975\n",
      "Agent value after 4000000 iterations: -0.02203\n",
      "Agent value after 4500000 iterations: -0.01597\n",
      "Agent value after 5000000 iterations: -0.0150325\n",
      "Agent value after 5500000 iterations: -0.02107\n",
      "Agent value after 6000000 iterations: -0.0148725\n",
      "Agent value after 6500000 iterations: -0.0179525\n",
      "Agent value after 7000000 iterations: -0.015435\n",
      "Agent value after 7500000 iterations: -0.0170325\n"
     ]
    }
   ],
   "source": [
    "ARGS = {\n",
    "    'allow_double': True,\n",
    "    'with_memory': False,\n",
    "    'allow_split': False\n",
    "}\n",
    "mc_double_agent = MCControlAgent(0.01, **ARGS)\n",
    "simulator = BlackjackSimulator(mc_double_agent, **ARGS)\n",
    "simulator.train_agent()"
   ]
  },
  {
   "cell_type": "code",
   "execution_count": 77,
   "metadata": {},
   "outputs": [
    {
     "data": {
      "image/png": "[encoded data removed]",
      "text/plain": [
       "<Figure size 576x576 with 2 Axes>"
      ]
     },
     "metadata": {
      "needs_background": "light"
     },
     "output_type": "display_data"
    }
   ],
   "source": [
    "plot_agent_strategy(mc_double_agent) # 0 - Stick, 1 - Hit, 2 - Double"
   ]
  },
  {
   "cell_type": "markdown",
   "metadata": {},
   "source": [
    "С разрешенным удваиванием ставки можно еще немного улучшить ожидаемый выигрыш до -0.0170325. Ясно что все оценки приведены с долей погрешности, так как они на основе случайных симуляций. Но в целом тренд на улучшение стратегии относительно предыдущей прослеживается. Интересно посмотреть, когда можно быть уверенным в выигрыше и удваивать ставку."
   ]
  },
  {
   "cell_type": "code",
   "execution_count": null,
   "metadata": {},
   "outputs": [],
   "source": []
  },
  {
   "cell_type": "markdown",
   "metadata": {},
   "source": [
    "Теперь самое сложное - позволить агенту запоминать карты. Для этого я воспользовался методикой из википедии, где присвоил разным картам вес, можно посчитать сколько карт осталось в колоде, и просуммировать их вес, удвоить, чтобы получить целое число и передать в таком виде агенту. Эта цифра остаточного суммарного веса в колоде будет новой размерностью в пространстве состояний среды. И теперь агент будет запоминать все свои статистики с учетом этого нового состояния."
   ]
  },
  {
   "cell_type": "code",
   "execution_count": 62,
   "metadata": {},
   "outputs": [
    {
     "name": "stdout",
     "output_type": "stream",
     "text": [
      "Initial agent value: -0.480547\n",
      "Agent value after 2000000 iterations: -0.045731\n",
      "Agent value after 4000000 iterations: -0.03284\n",
      "Agent value after 6000000 iterations: -0.024938\n",
      "Agent value after 8000000 iterations: -0.019415\n",
      "Agent value after 10000000 iterations: -0.01581\n",
      "Agent value after 12000000 iterations: -0.012739\n",
      "Agent value after 14000000 iterations: -0.012582\n",
      "Agent value after 16000000 iterations: -0.010261\n",
      "Agent value after 18000000 iterations: -0.008469\n",
      "Agent value after 20000000 iterations: -0.006215\n",
      "Agent value after 22000000 iterations: -0.007922\n",
      "Agent value after 24000000 iterations: -0.007209\n",
      "Agent value after 26000000 iterations: -0.004032\n",
      "Agent value after 28000000 iterations: -0.003028\n",
      "Agent value after 30000000 iterations: -0.005502\n",
      "Agent value after 32000000 iterations: -0.004368\n",
      "Agent value after 34000000 iterations: -0.002281\n",
      "Agent value after 36000000 iterations: -0.004128\n",
      "Agent value after 38000000 iterations: -0.002245\n",
      "Agent value after 40000000 iterations: -0.005983\n",
      "Agent value after 42000000 iterations: -0.004361\n",
      "Agent value after 44000000 iterations: 0.000583\n",
      "Agent value after 46000000 iterations: -0.002284\n",
      "Agent value after 48000000 iterations: -0.002524\n",
      "Agent value after 50000000 iterations: -0.002303\n"
     ]
    }
   ],
   "source": [
    "ARGS = {\n",
    "    'allow_double': True,\n",
    "    'with_memory': True,\n",
    "    'allow_split': False\n",
    "}\n",
    "mc_agent_with_memory = MCControlAgent(0.05, **ARGS)\n",
    "simulator = BlackjackSimulator(mc_agent_with_memory, **ARGS)\n",
    "simulator.train_agent(rounds=25, train_iterations=2000000, eval_iterations=500000)"
   ]
  },
  {
   "cell_type": "markdown",
   "metadata": {},
   "source": [
    "Видно, что в какой то момент даже получили положительную оценку выигрыша, но все таки тут велика доля погрешности, так что в целом выглядит как то что средний выигрыш теперь будет на уровне -0.002303, но если сравнить с предыдущим, можно сказать что за счет добавления памяти агента мы увеличили его эффективность в 8 раз."
   ]
  },
  {
   "cell_type": "markdown",
   "metadata": {},
   "source": [
    "Чтобы убедиться в том, что агент научился запоминать, возьмем крайний случай"
   ]
  },
  {
   "cell_type": "markdown",
   "metadata": {},
   "source": [
    "К примеру, тут видно что если у нас на руке 10 очков, а в колоде остались в основном одни 10ки, вальты, дамы, короли и тузы, то нужно удваивать ставку:"
   ]
  },
  {
   "cell_type": "code",
   "execution_count": 152,
   "metadata": {},
   "outputs": [
    {
     "data": {
      "text/plain": [
       "array([0.        , 0.80238215, 2.        ])"
      ]
     },
     "execution_count": 152,
     "metadata": {},
     "output_type": "execute_result"
    }
   ],
   "source": [
    "mc_agent_with_memory._q(State(player_sum=10, dealer_card=4, usable_ace=False, memory=-30))"
   ]
  },
  {
   "cell_type": "code",
   "execution_count": null,
   "metadata": {},
   "outputs": [],
   "source": []
  },
  {
   "cell_type": "markdown",
   "metadata": {},
   "source": [
    "Теперь разрешим делать split. Отмечу что я сильно увеличиваю количество итераций, так как число состояний сильно растет, и вероятность попасть в различные редкие состояния которые при этом могут гарантировать выигрыш или проигрыш - очень мала, поэтому тут по максимуму делаем много итераций и также играемся с epsilon."
   ]
  },
  {
   "cell_type": "code",
   "execution_count": 71,
   "metadata": {},
   "outputs": [
    {
     "name": "stdout",
     "output_type": "stream",
     "text": [
      "Initial agent value: -0.488906\n",
      "Agent value after 4000000 iterations: -0.030374\n",
      "Agent value after 8000000 iterations: -0.021929\n",
      "Agent value after 12000000 iterations: -0.012262\n",
      "Agent value after 16000000 iterations: -0.009175\n",
      "Agent value after 20000000 iterations: -0.009797\n",
      "Agent value after 24000000 iterations: -0.001988\n",
      "Agent value after 28000000 iterations: -0.003712\n",
      "Agent value after 32000000 iterations: -0.003958\n",
      "Agent value after 36000000 iterations: -0.004729\n",
      "Agent value after 40000000 iterations: -0.003326\n",
      "Agent value after 44000000 iterations: -0.004755\n",
      "Agent value after 48000000 iterations: -0.002995\n",
      "Agent value after 52000000 iterations: 0.000567\n",
      "Agent value after 56000000 iterations: -0.000727\n",
      "Agent value after 60000000 iterations: -0.002473\n"
     ]
    }
   ],
   "source": [
    "ARGS = {\n",
    "    'allow_double': True,\n",
    "    'with_memory': True,\n",
    "    'allow_split': True\n",
    "}\n",
    "mc_agent_with_split = MCControlAgent(0.05, **ARGS)\n",
    "simulator = BlackjackSimulator(mc_agent_with_split, **ARGS)\n",
    "simulator.train_agent(rounds=15, train_iterations=4000000, eval_iterations=500000)"
   ]
  },
  {
   "cell_type": "code",
   "execution_count": 72,
   "metadata": {},
   "outputs": [
    {
     "name": "stdout",
     "output_type": "stream",
     "text": [
      "Initial agent value: 0.00028\n",
      "Agent value after 4000000 iterations: 0.000104\n",
      "Agent value after 8000000 iterations: -0.001042\n",
      "Agent value after 12000000 iterations: -0.002147\n",
      "Agent value after 16000000 iterations: 0.002079\n",
      "Agent value after 20000000 iterations: -0.001165\n"
     ]
    }
   ],
   "source": [
    "mc_agent_with_split.epsilon = 0.01\n",
    "simulator.train_agent(rounds=5, train_iterations=4000000, eval_iterations=500000)"
   ]
  },
  {
   "cell_type": "code",
   "execution_count": 73,
   "metadata": {},
   "outputs": [
    {
     "name": "stdout",
     "output_type": "stream",
     "text": [
      "Initial agent value: 0.000214\n",
      "Agent value after 4000000 iterations: -0.002508\n",
      "Agent value after 8000000 iterations: 0.001158\n",
      "Agent value after 12000000 iterations: 0.00026\n",
      "Agent value after 16000000 iterations: -0.0004\n",
      "Agent value after 20000000 iterations: -0.000651\n"
     ]
    }
   ],
   "source": [
    "simulator.train_agent(rounds=5, train_iterations=4000000, eval_iterations=500000)"
   ]
  },
  {
   "cell_type": "code",
   "execution_count": 74,
   "metadata": {},
   "outputs": [
    {
     "name": "stdout",
     "output_type": "stream",
     "text": [
      "Initial agent value: -0.002758\n",
      "Agent value after 4000000 iterations: 0.001518\n",
      "Agent value after 8000000 iterations: 0.001532\n",
      "Agent value after 12000000 iterations: -0.000109\n",
      "Agent value after 16000000 iterations: 0.000743\n",
      "Agent value after 20000000 iterations: -0.001373\n"
     ]
    }
   ],
   "source": [
    "simulator.train_agent(rounds=5, train_iterations=4000000, eval_iterations=500000)"
   ]
  },
  {
   "cell_type": "markdown",
   "metadata": {},
   "source": [
    "Я несколько раз дообучал агента и в целом видно, что мы не стабильно, но все таки уже явно имеем шансы обыграть казино или по крайней мере не проиграть."
   ]
  },
  {
   "cell_type": "markdown",
   "metadata": {},
   "source": [
    "Интересно посмотреть, когда имеет смысл делать сплит."
   ]
  },
  {
   "cell_type": "code",
   "execution_count": 146,
   "metadata": {},
   "outputs": [],
   "source": [
    "split_stat = {i: 0 for i in range(1, 11)}\n",
    "for card in [1, 2, 3, 4, 5, 6, 7, 8, 9, 10]:\n",
    "    for state in mc_agent_with_split.q:\n",
    "        if state.player_sum == 2 * card and mc_agent_with_split._greedy(state, can_split=True) == 3:\n",
    "            split_stat[card] += 1"
   ]
  },
  {
   "cell_type": "code",
   "execution_count": 147,
   "metadata": {},
   "outputs": [
    {
     "data": {
      "text/plain": [
       "{1: 490,\n",
       " 2: 587,\n",
       " 3: 557,\n",
       " 4: 424,\n",
       " 5: 402,\n",
       " 6: 831,\n",
       " 7: 918,\n",
       " 8: 1044,\n",
       " 9: 815,\n",
       " 10: 419}"
      ]
     },
     "execution_count": 147,
     "metadata": {},
     "output_type": "execute_result"
    }
   ],
   "source": [
    "split_stat"
   ]
  },
  {
   "cell_type": "markdown",
   "metadata": {},
   "source": [
    "Это статистика, что если пришла на руку пара определенных карт, сколько всего состояний есть, в которых стоит делать сплит. Цифры примерны так как есть недоступные состояния, проинициализированные случайными весами. Но в целом видно, что на пару восьмерок стоит делать сплит, а пару 10к (вальтов и тп) чаще стоит оставлять. Звучит вполне логично."
   ]
  },
  {
   "cell_type": "code",
   "execution_count": null,
   "metadata": {},
   "outputs": [],
   "source": []
  },
  {
   "cell_type": "markdown",
   "metadata": {},
   "source": [
    "Уравнения Беллмана не сделал"
   ]
  },
  {
   "cell_type": "code",
   "execution_count": null,
   "metadata": {},
   "outputs": [],
   "source": []
  }
 ],
 "metadata": {
  "kernelspec": {
   "display_name": "Python 3",
   "language": "python",
   "name": "python3"
  },
  "language_info": {
   "codemirror_mode": {
    "name": "ipython",
    "version": 3
   },
   "file_extension": ".py",
   "mimetype": "text/x-python",
   "name": "python",
   "nbconvert_exporter": "python",
   "pygments_lexer": "ipython3",
   "version": "3.7.5"
  }
 },
 "nbformat": 4,
 "nbformat_minor": 4
}
