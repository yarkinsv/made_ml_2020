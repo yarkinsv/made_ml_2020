{
 "cells": [
  {
   "cell_type": "code",
   "execution_count": 1,
   "metadata": {},
   "outputs": [
    {
     "name": "stderr",
     "output_type": "stream",
     "text": [
      "/usr/local/lib/python3.7/site-packages/sklearn/utils/deprecation.py:144: FutureWarning: The sklearn.utils.testing module is  deprecated in version 0.22 and will be removed in version 0.24. The corresponding classes / functions should instead be imported from sklearn.utils. Anything that cannot be imported from sklearn.utils is now part of the private API.\n",
      "  warnings.warn(message, FutureWarning)\n"
     ]
    }
   ],
   "source": [
    "import matplotlib as mpl\n",
    "import matplotlib.pyplot as plt\n",
    "import seaborn as sns\n",
    "import json\n",
    "import numpy as np\n",
    "import scipy as sp\n",
    "import scipy.stats as st\n",
    "import scipy.integrate as integrate\n",
    "from scipy.stats import multivariate_normal\n",
    "from sklearn import linear_model\n",
    "from sklearn.utils.testing import ignore_warnings\n",
    "from sklearn.exceptions import ConvergenceWarning\n",
    "import statsmodels.api as sm\n",
    "import seaborn\n",
    "from collections import Counter\n",
    "\n",
    "sns.set_style(\"whitegrid\")\n",
    "sns.set_palette(\"colorblind\")\n",
    "palette = sns.color_palette()\n",
    "figsize = (15,8)\n",
    "legend_fontsize = 16"
   ]
  },
  {
   "cell_type": "code",
   "execution_count": 2,
   "metadata": {},
   "outputs": [],
   "source": [
    "war_and_peace_text = open('Downloads/corpora/WarAndPeace.txt', 'r').readlines()\n",
    "anna_text = open('Downloads/corpora/AnnaKarenina.txt', 'r').readlines()"
   ]
  },
  {
   "cell_type": "code",
   "execution_count": 3,
   "metadata": {},
   "outputs": [],
   "source": [
    "filter_chars = lambda c: (c >= 'а' and c <= 'я' or c in [' '])\n",
    "count_chars = lambda t: Counter([c for c in ''.join(t).lower() if filter_chars(c)])\n",
    "\n",
    "rus_corpus = count_chars(war_and_peace_text + anna_text)\n",
    "\n",
    "ALPHABET = np.array(sorted(rus_corpus.keys()))\n",
    "ALPHABET_RATES = np.array([rus_corpus[c] / sum(rus_corpus.values()) for c in ALPHABET])\n",
    "ALPHABET_RATES_INDEX = np.argsort(ALPHABET_RATES)\n",
    "ALPHABET_SORTED = ALPHABET[ALPHABET_RATES_INDEX]\n",
    "ALPHABET_MAP = dict([(c, np.where(ALPHABET == c)[0][0]) for c in ALPHABET])\n",
    "\n",
    "BIGRAMS = np.array([a + b for a in ALPHABET for b in ALPHABET])\n",
    "BIGRAMS_RATES = np.array([''.join(war_and_peace_text + anna_text).count(bi) for bi in BIGRAMS])\n",
    "BIGRAMS_RATES_INDEX = np.argsort(BIGRAMS_RATES)\n",
    "BIGRAMS_SORTED = BIGRAMS[BIGRAMS_RATES_INDEX]\n",
    "LOG_RATES = np.log(BIGRAMS_RATES + 1)"
   ]
  },
  {
   "cell_type": "code",
   "execution_count": 4,
   "metadata": {},
   "outputs": [
    {
     "data": {
      "text/plain": [
       "<BarContainer object of 33 artists>"
      ]
     },
     "execution_count": 4,
     "metadata": {},
     "output_type": "execute_result"
    },
    {
     "data": {
      "image/png": "[encoded data removed]",
      "text/plain": [
       "<Figure size 432x288 with 1 Axes>"
      ]
     },
     "metadata": {},
     "output_type": "display_data"
    }
   ],
   "source": [
    "plt.bar(ALPHABET_SORTED[::-1], ALPHABET_RATES[ALPHABET_RATES_INDEX][::-1])"
   ]
  },
  {
   "cell_type": "code",
   "execution_count": 5,
   "metadata": {},
   "outputs": [],
   "source": [
    "def cipher(text, p):\n",
    "    return ''.join([p[ALPHABET_MAP[c]] for c in text if filter_chars(c)])\n",
    "\n",
    "def decipher_naive(text):\n",
    "    counts = count_chars(text)\n",
    "    rates = np.array([counts[c] / sum(counts.values()) for c in ALPHABET])\n",
    "    chars_sorted = ''.join(ALPHABET[np.argsort(rates)])\n",
    "    plt.bar(ALPHABET[np.argsort(rates)][::-1], rates[np.argsort(rates)][::-1])\n",
    "    words = text.split()\n",
    "    key = ALPHABET[np.argsort(rates)][[np.where(ALPHABET_SORTED == c)[0][0] for c in ALPHABET]]\n",
    "    return ' '.join([''.join([ALPHABET_SORTED[chars_sorted.index(c)] for c in word]) for word in words]), key"
   ]
  },
  {
   "cell_type": "code",
   "execution_count": 6,
   "metadata": {},
   "outputs": [
    {
     "name": "stdout",
     "output_type": "stream",
     "text": [
      "Ключ шифрования: япмфушэвжрюитхлбгыщ доъцзнчсайекь\n"
     ]
    }
   ],
   "source": [
    "original_text = '''\n",
    "Чайковского в Европе, может, и недооценивают в каких-то его параметрах, а в Японии обожают. \n",
    "Просто обожают! И в Китае тоже обожают. В Европе самым великим композитором России, наверное, \n",
    "и по праву тоже, считается Мусоргский. В Америке любят Рахманинова, естественно, они считают его своим. \n",
    "В каком-то смысле он и американский композитор тоже, всё-таки там провёл столько лет. \n",
    "Другое дело, что, живя в Америке, он очень мало написал. Вся основная доля его творчества была создана в России. \n",
    "Так что американцам я всегда говорю - это наш общий композитор, это наше общее достояние, и им это очень нравится. \n",
    "Есть, конечно, какие-то свои приоритеты, но хорошая музыка воспринимается во всех странах одинаково. \n",
    "'''\n",
    "\n",
    "key = np.random.permutation(ALPHABET)\n",
    "reverse_key = np.array([ALPHABET[np.where(key == c)[0][0]] for c in ALPHABET])\n",
    "key_ = ''.join(key)\n",
    "\n",
    "ciphered_text = cipher(original_text.lower(), key)\n",
    "\n",
    "print(f'Ключ шифрования: {key_}')"
   ]
  },
  {
   "cell_type": "code",
   "execution_count": 7,
   "metadata": {},
   "outputs": [
    {
     "name": "stdout",
     "output_type": "stream",
     "text": [
      "зпюибфщибубяфяэфыбгэяхбвэ ярялэшббцэлрфпк яфяипиръ бяэубягпыпхэ ыпъяпяфяьгблррябмбвпк ягыбщ бябмбвпк яряфяир пэя бвэябмбвпк яфяэфыбгэящпхахяфэтрирхяибхгбжр быбхяыбщщррялпфэылбэярягбягыпфдя бвэящзр пэ щьяхдщбыущирюяфяпхэыриэяткмь яыпъхплрлбфпяэщ эщ фэллбяблрящзр пк яэубящфбрхяфяипибх бящхащтэябляряпхэыриплщирюяибхгбжр быя бвэяфщ пиря пхягыбфтящ бтйибятэ яшыдубэяшэтбяз бяврфьяфяпхэыриэяблябзэлйяхптбялпгрщптяфщьябщлбфлпьяшбтьяэубя фбызэщ фпяматпящбжшплпяфяыбщщрря пияз бяпхэыриплцпхяьяфщэушпяубфбыкяяе бялпнябмчрюяибхгбжр быяе бялпнэябмчээяшбщ бьлрэярярхяе бябзэлйялыпфр щьяэщ йяиблэзлбяипирэ бящфбрягырбыр э аялбяъбыбнпьяхджаипяфбщгырлрхпэ щьяфбяфщэъящ ыплпъябшрлпибфбя\n"
     ]
    }
   ],
   "source": [
    "print(ciphered_text)"
   ]
  },
  {
   "cell_type": "code",
   "execution_count": 8,
   "metadata": {},
   "outputs": [
    {
     "name": "stdout",
     "output_type": "stream",
     "text": [
      "пейростроьо с асвода кояа  н лагоощалнсеб  с рернз о аьо девека вез е с мдолнн оыояеб  двот о оыояеб  н с рн еа  ояа оыояеб  с асвода текчк саунрнк рокдожн овок воттнн лесавлоа н до двесх  ояа тпн еа тм кхтовьтрнй с екавнра убым  везкелнлосе ат ат салло олн тпн еб  аьо тсонк с рерок о ткчтуа ол н екавнрелтрнй рокдожн ов  ояа ст ерн  ек двосу т оушро уа  гвхьоа гауо п о янсм с екавнра ол опалш кеуо леднтеу стм отлослем гоум аьо  совпат се ычуе тожгеле с воттнн  ер п о екавнрелщек м стаьге ьосовб  э о лею оыцнй рокдожн ов э о леюа оыцаа гот омлна н нк э о опалш лвесн тм ат ш ролапло рерна о тсон двновн а ч ло зовоюем кхжчре сотдвнлнкеа тм со стаз т велез огнлеросо \n"
     ]
    },
    {
     "data": {
      "image/png": "[encoded data removed]",
      "text/plain": [
       "<Figure size 432x288 with 1 Axes>"
      ]
     },
     "metadata": {},
     "output_type": "display_data"
    }
   ],
   "source": [
    "deciphered_text, deciphered_key = decipher_naive(ciphered_text)\n",
    "print(deciphered_text)"
   ]
  },
  {
   "cell_type": "code",
   "execution_count": 9,
   "metadata": {},
   "outputs": [
    {
     "name": "stdout",
     "output_type": "stream",
     "text": [
      "Number of correctly decrypted letters is 6\n"
     ]
    }
   ],
   "source": [
    "print(f'Number of correctly decrypted letters is {sum(key == deciphered_key)}')"
   ]
  },
  {
   "cell_type": "markdown",
   "metadata": {},
   "source": [
    "Видим что несколько букв мы смогли расшифровать корректно, достаточно очевидно совпадение по букве О, которая является самой распространенной, и еще несколько букв алгоритм угадал, но текст получился совершенно не читаемым."
   ]
  },
  {
   "cell_type": "markdown",
   "metadata": {},
   "source": [
    "Теперь посмотрим на частотность биграмм по всему корпусу текста и по нашему тестовому тексту отдельно."
   ]
  },
  {
   "cell_type": "code",
   "execution_count": 10,
   "metadata": {},
   "outputs": [
    {
     "data": {
      "image/png": "[encoded data removed]",
      "text/plain": [
       "<Figure size 720x576 with 2 Axes>"
      ]
     },
     "metadata": {},
     "output_type": "display_data"
    }
   ],
   "source": [
    "import seaborn as sns; \n",
    "sns.set()\n",
    "\n",
    "plt.figure(figsize=(10,8))\n",
    "data = np.array(BIGRAMS_RATES).reshape(33, 33)\n",
    "ax = sns.heatmap(data, xticklabels=ALPHABET, yticklabels=ALPHABET, cmap=\"YlGnBu\")"
   ]
  },
  {
   "cell_type": "code",
   "execution_count": 11,
   "metadata": {},
   "outputs": [
    {
     "data": {
      "image/png": "[encoded data removed]",
      "text/plain": [
       "<Figure size 720x576 with 2 Axes>"
      ]
     },
     "metadata": {},
     "output_type": "display_data"
    }
   ],
   "source": [
    "bigram_rates_text = np.array([original_text.count(bi) for bi in BIGRAMS])\n",
    "\n",
    "plt.figure(figsize=(10,8))\n",
    "data = np.array(bigram_rates_text).reshape(33, 33)\n",
    "ax = sns.heatmap(data, xticklabels=ALPHABET, yticklabels=ALPHABET, cmap=\"YlGnBu\")"
   ]
  },
  {
   "cell_type": "markdown",
   "metadata": {},
   "source": [
    "Сразу видим хорошую схожесть в представлении хитмапы. Давайте посмотрим на хитмапу от зашифрованного текста."
   ]
  },
  {
   "cell_type": "code",
   "execution_count": 12,
   "metadata": {},
   "outputs": [
    {
     "data": {
      "image/png": "[encoded data removed]",
      "text/plain": [
       "<Figure size 720x576 with 2 Axes>"
      ]
     },
     "metadata": {},
     "output_type": "display_data"
    }
   ],
   "source": [
    "bigram_rates_text = np.array([ciphered_text.count(bi) for bi in BIGRAMS])\n",
    "\n",
    "plt.figure(figsize=(10,8))\n",
    "data = np.array(bigram_rates_text).reshape(33, 33)\n",
    "ax = sns.heatmap(data, xticklabels=ALPHABET, yticklabels=ALPHABET, cmap=\"YlGnBu\")"
   ]
  },
  {
   "cell_type": "markdown",
   "metadata": {},
   "source": [
    "Видно, что все перемешалось, но теоретически можно как то восстановить исходный порядок."
   ]
  },
  {
   "cell_type": "code",
   "execution_count": 13,
   "metadata": {},
   "outputs": [],
   "source": [
    "def decipher_by_bigrams_naive(text):\n",
    "    bigram_rates_text = np.array([text.count(bi) for bi in BIGRAMS])\n",
    "    key = ['_' for _ in ALPHABET]\n",
    "    i = 0\n",
    "    index = np.argsort(bigram_rates_text)[::-1]\n",
    "    while '_' in key and i < len(BIGRAMS):\n",
    "        original_bigram = BIGRAMS_SORTED[::-1][i]\n",
    "        current_bigram = BIGRAMS[index[i]]\n",
    "        k1 = np.where(original_bigram[0] == ALPHABET)[0][0]\n",
    "        k2 = np.where(original_bigram[1] == ALPHABET)[0][0]\n",
    "        if key[k1] == '_' and current_bigram[0] not in key:\n",
    "            key[k1] = current_bigram[0]\n",
    "        if key[k2] == '_' and current_bigram[1] not in key:\n",
    "            key[k2] = current_bigram[1]\n",
    "        i += 1\n",
    "    while '_' in key:\n",
    "        i = key.index('_')\n",
    "        for c in ALPHABET:\n",
    "            if c not in key:\n",
    "                key[i] = c\n",
    "                break\n",
    "    words = text.split()\n",
    "    return ' '.join([''.join([ALPHABET[key.index(c)] for c in word]) for word in words]), key"
   ]
  },
  {
   "cell_type": "code",
   "execution_count": 14,
   "metadata": {},
   "outputs": [],
   "source": [
    "decrypted, bigram_key = decipher_by_bigrams_naive(ciphered_text)"
   ]
  },
  {
   "cell_type": "code",
   "execution_count": 15,
   "metadata": {},
   "outputs": [
    {
     "name": "stdout",
     "output_type": "stream",
     "text": [
      "уиблонрломо н янгодя еофя  т ьяаоошяьтнич  н лилтз о ямо дигиея гиз и н пдоьтт оцофич  дгор о оцофич  т н лт ия  офя оцофич  н янгодя риеще няытлте лоедожт огое горртт ьинягьоя т до дгинс  офя рут ия рп есрогмрлтб н иеягтля ычцп  гизеиьтьони яр яр няььо оьт рут ич  ямо рноте н лилое о рещрыя оь т иеягтлиьрлтб лоедожт ог  офя нр илт  ие дгоны р оыюло ыя  агсмоя аяыо у о фтнп н иеягтля оь оуяью еиыо ьидтриы нрп орьоньип аоып ямо  ногуяр ни цщыи рожаиьи н горртт  ил у о иеягтлиьшие п нрямаи моногч  к о ьиэ оцхтб лоедожт ог к о ьиэя оцхяя аор опьтя т те к о оуяью ьгинт рп яр ю лоьяуьо лилтя о рнот дгтогт я щ ьо зогоэип есжщли нордгтьтеия рп но нряз р гиьиз оатьилоно \n"
     ]
    }
   ],
   "source": [
    "print(decrypted)"
   ]
  },
  {
   "cell_type": "code",
   "execution_count": 20,
   "metadata": {},
   "outputs": [
    {
     "name": "stdout",
     "output_type": "stream",
     "text": [
      "Number of correctly decrypted letters is 2\n"
     ]
    }
   ],
   "source": [
    "print(f'Number of correctly decrypted letters is {sum(key == bigram_key)}')"
   ]
  },
  {
   "cell_type": "markdown",
   "metadata": {},
   "source": [
    "Нужно как то по умному подбирать соответсвия между биграммами. В самом тупом варианте получилось еще хуже чем при посимвольном сравнении. Это из-за того, что вариантов гораздо больше, и больше шанс получить неверный матчинг при сравнении просто по частотам."
   ]
  },
  {
   "cell_type": "markdown",
   "metadata": {},
   "source": [
    "## MCMC"
   ]
  },
  {
   "cell_type": "markdown",
   "metadata": {},
   "source": [
    "Алгоритм MCMC достаточно простой по свой структуре. Мы определяем функцию $\\pi (x) = \\prod_{\\beta_1,\\beta_2}F_R(\\beta_1,\\beta_2)^{F_X(\\beta_1,\\beta_2)}$ где $\\beta_1,\\beta_2$ - биграмма, $F_R$ - количество раз эта биграмма встретилась в исходном корпусе текстов, $F_X$ - кол-во раз встретилась в тексте X. От этого всего мы берем логарифм просто для того, чтобы было удобно считать. В итоге получаем функцию, которая будет чем больше тем схожей текст X будет по \"биграммной структуре\" к исходному корпусу."
   ]
  },
  {
   "cell_type": "markdown",
   "metadata": {},
   "source": [
    "Исходным пространством у нас является множество всех возможных перестановок ключа, двигаться по этому пространству мы будем с помощью случайных перестановк пар символов в ключе. Эти перестановки будут симметричны в смысле вероятностей перехода туда обратно, поэтому формула для MCMC алгоритма упрощается. Чтобы посчитать двинулись мы в сторону увелечения вероятности или нет, и на сколько, мы будем пользоавться функцией A(X, Y). И будем также задавать величину p - чем она будет больше, тем выше будет вероятность отклонить переход в сторону снижения. Я сделал постепенное увелечение p, чтобы по-началу алгоритм \"попрыгал\" в разные стороны но к концу как бы устремился в сторону максимального увелечения вероятности. Еще я сделал такой трюк, каждые K итерация я насильно стартую с точки максимального скора, мне показалось что так работает чуть лучше, чем делать полностью хаотичные блуждания."
   ]
  },
  {
   "cell_type": "code",
   "execution_count": 37,
   "metadata": {},
   "outputs": [],
   "source": [
    "def swap_random(seq):\n",
    "    k = np.copy(seq)\n",
    "    idx = range(len(seq))\n",
    "    i1, i2 = np.random.choice(idx, 2)\n",
    "    k[i1], k[i2] = k[i2], k[i1]\n",
    "    return k\n",
    "\n",
    "def bigram_score_function(text):\n",
    "    bigram_rates_text = np.array([text.count(bi) for bi in BIGRAMS])\n",
    "    return np.sum((bigram_rates_text + 1) * LOG_RATES)\n",
    "\n",
    "def P(text, X):\n",
    "    return bigram_score_function(cipher(text, X))\n",
    "\n",
    "def A(text, X, Y, p):\n",
    "    return (P(text, Y) / P(text, X)) ** p\n",
    "\n",
    "def MCMC(ciphered_text, N = 500001):\n",
    "    X = np.random.permutation(ALPHABET)\n",
    "\n",
    "    key_list = []\n",
    "    score_list = []\n",
    "\n",
    "    rejected = 0\n",
    "    \n",
    "    for i in range(N):\n",
    "        Y = swap_random(X)\n",
    "        U = np.random.uniform()\n",
    "\n",
    "        if U < A(ciphered_text, X, Y, min(i / 500., 500)):\n",
    "            X = Y\n",
    "\n",
    "            key_list.append(X)\n",
    "            score_list.append(P(ciphered_text, X))\n",
    "        else:\n",
    "            rejected += 1\n",
    "\n",
    "        if i % 10000 == 0:\n",
    "            imax = np.argmax(np.array(score_list))\n",
    "            X = key_list[imax]\n",
    "            \n",
    "        if i % 50000 == 0:\n",
    "            imax = np.argmax(np.array(score_list))\n",
    "            print(f'\\nIteration {i}')\n",
    "            print(f'rejected {rejected} out of 50000')\n",
    "            print(f'max score: {score_list[imax]}')\n",
    "            print(cipher(ciphered_text, key_list[imax]))\n",
    "            rejected = 0\n",
    "            \n",
    "    return key_list[imax]"
   ]
  },
  {
   "cell_type": "code",
   "execution_count": 31,
   "metadata": {},
   "outputs": [
    {
     "name": "stdout",
     "output_type": "stream",
     "text": [
      "\n",
      "Iteration 0\n",
      "rejected 0 out of 50000\n",
      "max score: 8265.904508936545\n",
      "хгйрдыирдъдуыулыэдслущдал унумлтдджлмныгк уыургрнз дулъдусгэгщл эгзугуыуцсдмннудшдагк усэди дудшдагк унуыурн глу далудшдагк уыулыэдслуигщпщуыльнрнщурдщсдфн дэдщуэдииннумгылэмдлунусдусэгыеу далуихн гл ицущеидэъирнйуыугщлэнрлуькшц уэгзщгмнмдыгули ли ылммдудмнуихн гк улъдуиыднщуыургрдщ дуищпиьлудмунугщлэнргмирнйурдщсдфн дэу далуыи грну гщусэдыьуи дьордуьл утэеъдлутльдух дуаныцуыугщлэнрлудмудхлмоущгьдумгснигьуыицудимдымгцутдьцулъду ыдэхли ыгушпьгуидфтгмгуыуэдиинну грух дугщлэнргмжгщуцуыилътгуъдыдэкуую думгвудшянйурдщсдфн дэую думгвлудшяллутди дцмнлунунщую дудхлмоумэгын ицули оурдмлхмдургрнл дуиыднусэндэн л пумдуздэдвгцущефпргуыдисэнмнщгл ицуыдуыилзуи эгмгзудтнмгрдыду\n",
      "\n",
      "Iteration 50000\n",
      "rejected 11953 out of 50000\n",
      "max score: 10008.248868669842\n",
      "фукмозсмово з езподе ношет и рецооьеризуют з мумиъто ево дупунетпуъ у з хдории огошуют дпосто огошуют и з митуе тоше огошуют з езподе сунбн зелимин мондощитопон поссии рузепрое и до дпузя тоше сфитуетсх нясопвсмик з унепиме люгхт пуънурирозу естестзерро ори сфитуют ево сзоин з мумонто снбсле ор и унепимурсмик мондощитоп тоше зстуми тун дпозл столжмо лет цпявое цело фто шизх з унепиме ор оферж нуло рудисул зсх осрозрух цолх ево тзопфестзу гблу сощцуру з поссии тум фто унепимурьун х зсевцу возопю  это руч огаик мондощитоп это руче огаее цостохрие и ин это оферж рпузитсх естж морефро мумието сзои дпиопитетб ро ъопочух нящбму зосдпиринуетсх зо зсеъ стпуруъ оцирумозо \n",
      "\n",
      "Iteration 100000\n",
      "rejected 24304 out of 50000\n",
      "max score: 10251.147622293896\n",
      "хаякосткопо с есробе лощен и ведооэевисагн с какиуно епо бараленрау а с йбовии оюощагн бротно оюощагн и с кинае ноще оюощагн с есробе тальл семикил колбочинорол роттии васервое и бо брасы ноще тхинаентй лыторпткия с алерике мгюйн раулавивоса етнетнсевво ови тхинагн епо тсоил с каколно тльтме ов и алерикавткия колбочинор ноще стнаки нал бросм тномцко мен дрыпое демо хно щисй с алерике ов охевц ламо вабитам стй отвосвай домй епо нсорхетнса юьма точдава с роттии нак хно алерикавэал й степда посорг  шно ваъ оюфия колбочинор шно ваъе оюфее дотнойвие и ил шно охевц врасинтй етнц ковехво какиено тсои бриоринень во уороъай лычька сотбривилаентй со стеу тнравау одивакосо \n",
      "\n",
      "Iteration 150000\n",
      "rejected 30283 out of 50000\n",
      "max score: 10324.501090122794\n",
      "хаякосткодо с есробе лошен и вепоозевисагн с какийно едо бараленрай а с юбовии оуошагн бротно оуошагн и с кинае ноше оуошагн с есробе тальл семикил колбоцинорол роттии васервое и бо брасы ноше тхинаентю лытордткия с алерике мгуюн райлавивоса етнетнсевво ови тхинагн едо тсоил с каколно тльтме ов и алерикавткия колбоцинор ноше стнаки нал бросм тномчко мен прыдое пемо хно шисю с алерике ов охевч ламо вабитам стю отвосваю помю едо нсорхетнса уьма тоцпава с роттии нак хно алерикавзал ю стедпа досорг  щно ваъ оуфия колбоцинор щно ваъе оуфее потноювие и ил щно охевч врасинтю етнч ковехво какиено тсои бриоринень во йороъаю лыцька сотбривилаентю со стей тнравай опивакосо \n",
      "\n",
      "Iteration 200000\n",
      "rejected 34065 out of 50000\n",
      "max score: 10465.775564263993\n",
      "шайловслого в евроче ножет и кебооюекивадт в лалимто его чаранетрам а в ьчокии охожадт чросто охожадт и в литае тоже охожадт в евроче санян везилин лончощиторон россии каверкое и чо чравы тоже сшитаетсь нысоргслий в анериле здхьт рамнакикова естествекко оки сшитадт его своин в лалонто снясзе ок и анерилакслий лончощитор тоже встали тан чровз стозуло зет брыгое безо што живь в анериле ок ошеку назо качисаз всь осковкаь бозь его творшества хяза сощбака в россии тал што анерилакюан ь всегба говорд  это кап охций лончощитор это капе охцее бостоькие и ин это ошеку кравитсь есту локешко лалието свои чриоритетя ко моропаь ныщяла восчрикинаетсь во всем стракам обикалово \n",
      "\n",
      "Iteration 250000\n",
      "rejected 36866 out of 50000\n",
      "max score: 10528.78810622948\n",
      "чайковскобо в европе ложет и нешоощениваят в какицто ебо паралетрац а в мпонии охожаят просто охожаят и в китае тоже охожаят в европе сальл везикил колпоюиторол россии наверное и по правг тоже считаетсм лгсорбский в алерике зяхмт рацланинова естественно они считаят ебо своил в каколто сльсзе он и алериканский колпоюитор тоже встаки тал провз стозуко зет шргбое шезо что живм в алерике он очену лазо написаз всм основнам шозм ебо творчества хьза союшана в россии так что алериканщал м всебша боворя  это над охфий колпоюитор это наде охфее шостомние и ил это очену нравитсм есту конечно какието свои приоритеть но цородам лгюька воспринилаетсм во всец странац ошинаково \n",
      "\n",
      "Iteration 300000\n",
      "rejected 38128 out of 50000\n",
      "max score: 10588.626787576384\n",
      "чайдовсдобо в европе ложет и нешооценивают в дадихто ебо паралетрах а в кпонии огожают просто огожают и в дитае тоже огожают в европе салыл вемидил долпощиторол россии наверное и по праву тоже считаетск лусорбсдий в алериде мюгкт рахланинова естественно они считают ебо своил в дадолто слысме он и алеридансдий долпощитор тоже встади тал провм стомядо мет шрубое шемо что живк в алериде он оченя ламо написам вск основнак шомк ебо творчества гыма сощшана в россии тад что алериданцал к всебша боворю  это наз огфий долпощитор это назе огфее шостокние и ил это оченя нравитск естя донечно дадието свои приоритеты но хорозак лущыда воспринилаетск во всех странах ошинадово \n",
      "\n",
      "Iteration 350000\n",
      "rejected 37999 out of 50000\n",
      "max score: 10594.060492727813\n",
      "чайдовсдобо в европе ложет и незооценивают в дадихто ебо паралетрах а в кпонии огожают просто огожают и в дитае тоже огожают в европе салыл вемидил долпощиторол россии наверное и по праву тоже считаетск лусорбсдий в алериде мюгкт рахланинова естественно они считают ебо своил в дадолто слысме он и алеридансдий долпощитор тоже встади тал провм стомядо мет зрубое земо что живк в алериде он оченя ламо написам вск основнак зомк ебо творчества гыма сощзана в россии тад что алериданцал к всебза боворю  это наш огфий долпощитор это наше огфее зостокние и ил это оченя нравитск естя донечно дадието свои приоритеты но хорошак лущыда воспринилаетск во всех странах озинадово \n",
      "\n",
      "Iteration 400000\n",
      "rejected 37940 out of 50000\n",
      "max score: 10604.611841656704\n",
      "чайдовсдого в европе ложет и небооценивают в дадихто его паралетрах а в кпонии озожают просто озожают и в дитае тоже озожают в европе салыл вемидил долпощиторол россии наверное и по праву тоже считаетск лусоргсдий в алериде мюзкт рахланинова естественно они считают его своил в дадолто слысме он и алеридансдий долпощитор тоже встади тал провм стомядо мет бругое бемо что живк в алериде он оченя ламо написам вск основнак бомк его творчества зыма сощбана в россии тад что алериданцал к всегба говорю  это наш озфий долпощитор это наше озфее бостокние и ил это оченя нравитск естя донечно дадието свои приоритеты но хорошак лущыда воспринилаетск во всех странах обинадово \n",
      "\n",
      "Iteration 450000\n",
      "rejected 37905 out of 50000\n",
      "max score: 10655.574035601934\n",
      "шайковского в европе ложет и недооцениваят в какихто его паралетрах а в упонии озожаят просто озожаят и в китае тоже озожаят в европе салыл вемикил колпобиторол россии наверное и по правю тоже сшитаетсу люсоргский в алерике мязут рахланинова естественно они сшитаят его своил в каколто слысме он и алериканский колпобитор тоже встаки тал провм стомько мет дрюгое демо што живу в алерике он ошень ламо написам всу основнау дому его творшества зыма собдана в россии так што алериканцал у всегда говоря  это наф озчий колпобитор это нафе озчее достоуние и ил это ошень нравитсу есть конешно какието свои приоритеты но хорофау любыка воспринилаетсу во всех странах одинаково \n",
      "\n",
      "Iteration 500000\n",
      "rejected 37848 out of 50000\n",
      "max score: 10669.384654911884\n",
      "чайковского в европе ложет и недооцениваят в какихто его паралетрах а в упонии озожаят просто озожаят и в китае тоже озожаят в европе салыл вемикил колпобиторол россии наверное и по правю тоже считаетсу люсоргский в алерике мязут рахланинова естественно они считаят его своил в каколто слысме он и алериканский колпобитор тоже встаки тал провм стомько мет дрюгое демо что живу в алерике он очень ламо написам всу основнау дому его творчества зыма собдана в россии так что алериканцал у всегда говоря  это наф озший колпобитор это нафе озшее достоуние и ил это очень нравитсу есть конечно какието свои приоритеты но хорофау любыка воспринилаетсу во всех странах одинаково \n"
     ]
    }
   ],
   "source": [
    "mcmc_key = MCMC(ciphered_text)"
   ]
  },
  {
   "cell_type": "code",
   "execution_count": 34,
   "metadata": {},
   "outputs": [
    {
     "name": "stdout",
     "output_type": "stream",
     "text": [
      "Number of correctly decrypted letters in MCMC algorithm is 22\n"
     ]
    }
   ],
   "source": [
    "print(f'Number of correctly decrypted letters in MCMC algorithm is {sum(mcmc_key == reverse_key)}')"
   ]
  },
  {
   "cell_type": "markdown",
   "metadata": {},
   "source": [
    "Видим, что на 500т итерации алгоритм уже распознал 22 символа корректно, и более того текст уже получился читаемый а в некоторых кусках полностью совпадающий с оригиналом. Это произошло за счет того, что основные буквы сопоставились верно, ведь они и вносят основной частотый вклад в скор. А менее частотные уже перебираются так и сяк, в итоге сходимость все более замедляется с течением итераций.\n",
    "Попробую теперь расшифровать сообщение из задания."
   ]
  },
  {
   "cell_type": "code",
   "execution_count": null,
   "metadata": {},
   "outputs": [],
   "source": []
  },
  {
   "cell_type": "code",
   "execution_count": 35,
   "metadata": {},
   "outputs": [],
   "source": [
    "code = '''←⇠⇒↟↹↷⇊↹↷↟↤↟↨←↹↝⇛⇯↳⇴⇒⇈↝⇊↾↹↟⇒↟↹⇷⇛⇞↨↟↹↝⇛⇯↳⇴⇒⇈↝⇊↾↹↨←⇌⇠↨↹⇙↹⇸↨⇛↙⇛↹⇠⇛⇛↲⇆←↝↟↞↹⇌⇛↨⇛⇯⇊↾↹⇒←↙⇌⇛↹⇷⇯⇛⇞↟↨⇴↨⇈↹⇠⇌⇛⇯←←↹↷⇠←↙⇛↹↷⇊↹↷⇠←↹⇠↤←⇒⇴⇒↟↹⇷⇯⇴↷↟⇒⇈↝⇛↹↟↹⇷⇛⇒⇙⇞↟↨←↹↳⇴⇌⇠↟↳⇴⇒⇈↝⇊↾↹↲⇴⇒⇒↹⇰⇴↹⇷⇛⇠⇒←↤↝←←↹⇞←↨↷←⇯↨⇛←↹⇰⇴↤⇴↝↟←↹⇌⇙⇯⇠⇴↹↘⇛↨↞↹⇌⇛↝←⇞↝⇛↹↞↹↝↟⇞←↙⇛↹↝←↹⇛↲←⇆⇴⇏'''\n",
    "# Тут заменю на случайный буквы из алфавита просто для удобства в коде\n",
    "ciphered_code = code\n",
    "for i in range(len(Counter(ciphered_code).keys())):\n",
    "    ciphered_code = ciphered_code.replace(list(Counter(code).keys())[i], ALPHABET[i])"
   ]
  },
  {
   "cell_type": "code",
   "execution_count": 38,
   "metadata": {},
   "outputs": [
    {
     "name": "stdout",
     "output_type": "stream",
     "text": [
      "\n",
      "Iteration 0\n",
      "rejected 0 out of 50000\n",
      "max score: 5594.385991001645\n",
      "тэ ьсеисеьщьйтсфъмдв зфичсь ьсбъыйьсфъмдв зфичсйткэйсусгйъоъсэъърютфьжскъйъмичс токъсбмъыьйвйзсэкъмттсеэтоъсеисеэтсэщт в ьсбмвеь зфъсьсбъ уыьйтсдвкэьдв зфичсрв  спвсбъэ тщфттсытйетмйътспвщвфьтскумэвсшъйжскъфтыфъсжсфьытоъсфтсъртювл\n",
      "\n",
      "Iteration 50000\n",
      "rejected 7119 out of 50000\n",
      "max score: 6418.322536000151\n",
      "епро мл мояозе васнтрьвлы оро фабзо васнтрьвлы зеипз ч хзаша паащуевод иазаслы решиа фсабозтзь пиасее мпеша мл мпе пяертро фстморьва о фарчбозе нтипонтрьвлы щтрр кт фапреявее безмесзае ктятвое ичспт эазд иавебва д вобеша ве ащеутй\n",
      "\n",
      "Iteration 100000\n",
      "rejected 17932 out of 50000\n",
      "max score: 6482.838583358188\n",
      "ензо лю лофоме житразяжюб озо чидмо житразяжюб мепнм у хмиси ниивгежой пимитюб зеспи чтидомамя нпитее лнеси лю лне нфезазо чталозяжи о чизудоме рапноразяжюб вазз ка чинзефжее демлетмие кафажое путна ъимй пижеджи й жодеси же ивегаш\n",
      "\n",
      "Iteration 150000\n",
      "rejected 24679 out of 50000\n",
      "max score: 6549.409674351469\n",
      "ерзи пы писиле ватчозувый изи накли ватчозувый лешрл я хлада раажбевиц шалатый зедша нтакилолу ршатее преда пы пре рсезози нтопизува и назякиле чошричозувый жозз мо нарзесвее келпетлае мосовие шятро галц шавеква ц викеда ве ажебощ\n",
      "\n",
      "Iteration 200000\n",
      "rejected 29279 out of 50000\n",
      "max score: 6616.096724593195\n",
      "евси ды дибиле накросьный иси мапли накросьный легвл у члаза ваафцения галакый сезга мкапилоль вгакее двеза ды две вбесоси мкодисьна и масупиле рогвиросьный фосс хо мавсебнее пелдеклае хобоние гукво шаля ганепна я нипеза не афецот\n",
      "\n",
      "Iteration 250000\n",
      "rejected 32849 out of 50000\n",
      "max score: 6643.522667583429\n",
      "ивсе бы бемели нокрасьный есе зочле нокрасьный лигвл у плото воождинея голокый ситго зкочелаль вгокии бвито бы бви вмисасе зкабесьно е зосучели рагверасьный жасс ха зовсимнии чилбиклои хаманеи гуква цоля гонично я нечито ни ожидащ\n",
      "\n",
      "Iteration 300000\n",
      "rejected 34153 out of 50000\n",
      "max score: 6659.882626566469\n",
      "евси бы бизиле нокжасьный иси модли нокжасьный лервл у шлого воотпения ролокый сегро мкодилаль врокее бвего бы бве взесаси мкабисьно и мосудиле жарвижасьный тасс ча мовсезнее делбеклое чазание руква цоля ронедно я нидего не отепащ\n",
      "\n",
      "Iteration 350000\n",
      "rejected 34120 out of 50000\n",
      "max score: 6670.851970921109\n",
      "евси бы бизиле нокжасьный иси подли нокжасьный лервл у шлого воотмения ролокый сегро пкодилаль врокее бвего бы бве взесаси пкабисьно и посудиле жарвижасьный тасс ча повсезнее делбеклое чазание руква цоля ронедно я нидего не отемах\n",
      "\n",
      "Iteration 400000\n",
      "rejected 34083 out of 50000\n",
      "max score: 6677.33984630228\n",
      "евти бы бизиле нокжатьный ити подли нокжатьный лервл у шлого воосмения ролокый тегро пкодилаль врокее бвего бы бве взетати пкабитьно и потудиле жарвижатьный сатт ча повтезнее делбеклое чазание руква холя ронедно я нидего не осемац\n",
      "\n",
      "Iteration 450000\n",
      "rejected 33962 out of 50000\n",
      "max score: 6703.285385768177\n",
      "евси бы бимиле норзасьный иси подли норзасьный леквл у шлого воотжения колорый сегко продилаль вкорее бвего бы бве вмесаси прабисьно и посудиле заквизасьный тасс ча повсемнее делберлое чамание курва холя конедно я нидего не отежаф\n",
      "\n",
      "Iteration 500000\n",
      "rejected 34191 out of 50000\n",
      "max score: 6704.433077223932\n",
      "евси бы бимиле норзасьный иси потли норзасьный леквл у шлого вооджения колорый сегко протилаль вкорее бвего бы бве вмесаси прабисьно и посутиле заквизасьный дасс ча повсемнее телберлое чамание курва холя конетно я нитего не одежаф\n",
      "\n",
      "Iteration 550000\n",
      "rejected 34180 out of 50000\n",
      "max score: 6705.355803146413\n",
      "евси ты тимиле норзасьный иси побли норзасьный леквл у шлого вооджения колорый сегко пробилаль вкорее твего ты тве вмесаси пратисьно и посубиле заквизасьный дасс ча повсемнее белтерлое чамание курва холя конебно я нибего не одежаф\n",
      "\n",
      "Iteration 600000\n",
      "rejected 34319 out of 50000\n",
      "max score: 6705.355803146413\n",
      "евси ты тимиле норзасьный иси побли норзасьный леквл у шлого вооджения колорый сегко пробилаль вкорее твего ты тве вмесаси пратисьно и посубиле заквизасьный дасс ча повсемнее белтерлое чамание курва холя конебно я нибего не одежаф\n",
      "\n",
      "Iteration 650000\n",
      "rejected 33917 out of 50000\n",
      "max score: 6712.01394522816\n",
      "если ты тимиве норзальный или пошви норзальный вексв у бвого сооджения коворый легко прошивавь скорее тсего ты тсе смелали пратильно и полушиве заксизальный далл ча послемнее шевтервое чамание курса ховя конешно я нишего не одежаф\n",
      "\n",
      "Iteration 700000\n",
      "rejected 34018 out of 50000\n",
      "max score: 6713.987201019965\n",
      "если ты тимиве норзальный или пожви норзальный вексв у бвого соодшения коворый легко проживавь скорее тсего ты тсе смелали пратильно и полуживе заксизальный далл ча послемнее жевтервое чамание курса ховя конежно я нижего не одешаю\n",
      "\n",
      "Iteration 750000\n",
      "rejected 34233 out of 50000\n",
      "max score: 6730.8591096227865\n",
      "если вы вимите норзальный или пожти норзальный текст у бтого соодшения который легко прожитать скорее всего вы все смелали правильно и полужите заксизальный далл ча послемнее жетвертое чамание курса хотя конежно я нижего не одешаю\n",
      "\n",
      "Iteration 800000\n",
      "rejected 34170 out of 50000\n",
      "max score: 6730.8591096227865\n",
      "если вы вимите норзальный или пожти норзальный текст у бтого соодшения который легко прожитать скорее всего вы все смелали правильно и полужите заксизальный далл ча послемнее жетвертое чамание курса хотя конежно я нижего не одешаю\n",
      "\n",
      "Iteration 850000\n",
      "rejected 33971 out of 50000\n",
      "max score: 6732.88499398828\n",
      "если вы вижите норчальный или помти норчальный текст у бтого соодшения который легко промитать скорее всего вы все сжелали правильно и полумите чаксичальный далл за послежнее метвертое зажание курса хотя конемно я нимего не одешаю\n",
      "\n",
      "Iteration 900000\n",
      "rejected 33976 out of 50000\n",
      "max score: 6735.120673850861\n",
      "если вы вибите норжальный или помти норжальный текст у чтого соодшения который легко промитать скорее всего вы все сбелали правильно и полумите жаксижальный далл за послебнее метвертое забание курса хотя конемно я нимего не одешаю\n",
      "\n",
      "Iteration 950000\n",
      "rejected 34188 out of 50000\n",
      "max score: 6743.683172407765\n",
      "если вы вимите норжальный или подти норжальный текст у чтого сообшения который легко продитать скорее всего вы все смелали правильно и полудите жаксижальный балл за послемнее детвертое замание курса хотя конедно я нидего не обешаю\n"
     ]
    },
    {
     "data": {
      "text/plain": [
       "array(['е', 'с', 'л', 'и', ' ', 'в', 'ы', 'м', 'т', 'н', 'о', 'р', 'ж',\n",
       "       'а', 'ь', 'й', 'п', 'д', 'к', 'у', 'ч', 'г', 'б', 'ш', 'я', 'з',\n",
       "       'х', 'ю', 'ц', 'щ', 'э', 'ъ', 'ф'], dtype='<U1')"
      ]
     },
     "execution_count": 38,
     "metadata": {},
     "output_type": "execute_result"
    }
   ],
   "source": [
    "MCMC(ciphered_code, N=10**6)"
   ]
  },
  {
   "cell_type": "markdown",
   "metadata": {},
   "source": [
    "В итоге расшифровка заняла много итераций, но получилось вполне \"нормально\" и \"легко прочитать\" )) \n",
    "\n",
    "\"если вы вимите норжальный или подти норжальный текст у чтого сообшения который легко продитать скорее всего вы все смелали правильно и полудите жаксижальный балл за послемнее детвертое замание курса хотя конедно я нидего не обешаю\""
   ]
  },
  {
   "cell_type": "code",
   "execution_count": null,
   "metadata": {},
   "outputs": [],
   "source": []
  },
  {
   "cell_type": "markdown",
   "metadata": {},
   "source": [
    "Триграмы я не проверял, чисто интуитивно думаю будет работать лучше на больших текстах и хуже на небольших. Потому что их сильно больше и их распределение скорее будет непохоже на общее распределение в маленьких текстах."
   ]
  },
  {
   "cell_type": "markdown",
   "metadata": {},
   "source": [
    "Я могу в качестве применения привести следующий случай. Мне как то дали один очень старый бэкап из переписки в ICQ. Ничем открыть его было невозможно, и по байтам прочесть было сложно, потому что там все было в перемешку со служебными символами, которые выскакивали где нибудь внезапно, и формат был непонятен. В итоге что то мы расшифровали, но получилось с кучей мусора и коряво. Может можно было бы засунуть байткод в этот алгоритм и что то получить более читаемое -) "
   ]
  }
 ],
 "metadata": {
  "kernelspec": {
   "display_name": "Python 3",
   "language": "python",
   "name": "python3"
  },
  "language_info": {
   "codemirror_mode": {
    "name": "ipython",
    "version": 3
   },
   "file_extension": ".py",
   "mimetype": "text/x-python",
   "name": "python",
   "nbconvert_exporter": "python",
   "pygments_lexer": "ipython3",
   "version": "3.7.5"
  }
 },
 "nbformat": 4,
 "nbformat_minor": 1
}
