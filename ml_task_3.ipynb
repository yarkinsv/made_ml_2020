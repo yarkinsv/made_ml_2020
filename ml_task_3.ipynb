{
 "cells": [
  {
   "cell_type": "code",
   "execution_count": 12,
   "metadata": {},
   "outputs": [],
   "source": [
    "import matplotlib as mpl\n",
    "import matplotlib.pyplot as plt\n",
    "import json\n",
    "import numpy as np\n",
    "import pandas as pd\n",
    "import scipy as sp\n",
    "import scipy.stats as st\n",
    "import scipy.integrate as integrate\n",
    "from sklearn import linear_model\n",
    "from sklearn import metrics\n",
    "from sklearn.utils.testing import ignore_warnings\n",
    "import pickle\n",
    "import joblib\n",
    "from datetime import datetime\n",
    "from scipy.stats import spearmanr, kendalltau \n",
    "import multiprocessing as mp\n",
    "from sklearn.linear_model import LogisticRegression, LinearRegression, Ridge, SGDClassifier\n",
    "from sklearn.pipeline import Pipeline\n",
    "from sklearn.preprocessing import StandardScaler, OneHotEncoder, Normalizer\n",
    "from scipy.sparse import coo_matrix\n",
    "from functools import partial\n",
    "\n",
    "def softmax(x):\n",
    "    \"\"\"Compute softmax values for each sets of scores in x.\"\"\"\n",
    "    e_x = np.exp(x - np.max(x))\n",
    "    return e_x / e_x.sum(axis=0)\n",
    "\n",
    "def sigmoid(x):\n",
    "    return 1 / (1 + np.exp(-x))"
   ]
  },
  {
   "cell_type": "code",
   "execution_count": 2,
   "metadata": {},
   "outputs": [],
   "source": [
    "\n"
   ]
  },
  {
   "cell_type": "markdown",
   "metadata": {},
   "source": [
    "Сначала загружаем данные и делаем базовый препроцессинг."
   ]
  },
  {
   "cell_type": "code",
   "execution_count": 3,
   "metadata": {},
   "outputs": [],
   "source": [
    "players = joblib.load('chgk/players.pkl')\n",
    "results = joblib.load('chgk/results.pkl')\n",
    "tournaments = joblib.load('chgk/tournaments.pkl')\n",
    "\n",
    "tournaments_data = pd.DataFrame(list(tournaments.values())).loc[:, ['id', 'dateStart', 'dateEnd', 'type', 'questionQty']]\n",
    "tournaments_data['type'] = tournaments_data['type'].apply(lambda x: x['id'])\n",
    "tournaments_data['dateStart'] = pd.to_datetime(tournaments_data['dateStart'], utc=True).dt.tz_localize(None)\n",
    "tournaments_data['dateEnd'] = pd.to_datetime(tournaments_data['dateEnd'], utc=True).dt.tz_localize(None)\n",
    "tournaments_data['length'] = ((tournaments_data.dateEnd - tournaments_data.dateStart) / \n",
    "                              np.timedelta64(1,'h')).astype(int)\n",
    "tournaments_data = tournaments_data.loc[tournaments_data.dateStart >= pd.to_datetime('2018-09-01'), \n",
    "                                        ['id', 'dateStart', 'length', 'type', 'questionQty']]\n",
    "\n",
    "results_data = []\n",
    "for tournament_id in tournaments_data.id:\n",
    "    teams_count = len(results[tournament_id])\n",
    "    for team_id, team_result in enumerate(results[tournament_id]):\n",
    "        if 'mask' not in team_result or team_result['mask'] is None:\n",
    "            continue\n",
    "        mask, position = team_result['mask'], team_result['position']\n",
    "        relative_position = 1 - position / teams_count\n",
    "        for team_member in team_result['teamMembers']:\n",
    "            player_id = team_member['player']['id']\n",
    "            results_data.append((tournament_id, team_id, player_id, mask, teams_count, position, relative_position))\n",
    "results_data = pd.DataFrame(results_data, columns=['tournament_id', 'team_id', 'player_id', 'mask', 'teams_count', 'position', 'relative_position'])\n",
    "\n",
    "tournaments_data = tournaments_data.loc[tournaments_data.id.isin(results_data.tournament_id)]\n",
    "\n",
    "df = pd.merge(tournaments_data, results_data, left_on='id', right_on='tournament_id').sort_values(['dateStart']).reset_index(drop=True)\n",
    "df = df[df.tournament_id.isin(df.tournament_id.unique()[df.groupby(['tournament_id']).team_id.nunique() > 1])]"
   ]
  },
  {
   "cell_type": "code",
   "execution_count": 64,
   "metadata": {},
   "outputs": [],
   "source": [
    "def enrich_player_statistics(df, player_id):\n",
    "    \"\"\"Добавляем различную статистику по играм игрока player_id (для baseline модели не используется):\n",
    "    - tournaments_played_last_N_month: количество турниров, которые игрок сыграл за последние N месяцев\n",
    "    - avg_position_last_N_month: какое в среднем место занимал игрок за последние N месяцев\n",
    "    - avg_position_last_N_tournaments: какое в среднем место занимал игрок за последние N турниров\n",
    "    - days_since_last_tournament: сколько прошло дней с последнего турнира\n",
    "    - top_1_streak: сколько турниров подряд игрок уже выиграл\n",
    "    - top_3_streak: сколько турниров подряд игрок занимает top 3 место \n",
    "    \"\"\"\n",
    "    \n",
    "    player_data = df.loc[df.player_id == player_id].sort_values(['dateStart'])\n",
    "    player_data_indexed = player_data.set_index('dateStart')\n",
    "    \n",
    "    player_data['tournaments_played_last_1_month'] = player_data_indexed.rolling('30D')['id'].count().values\n",
    "    player_data['tournaments_played_last_2_month'] = player_data_indexed.rolling('60D')['id'].count().values\n",
    "    player_data['tournaments_played_last_3_month'] = player_data_indexed.rolling('90D')['id'].count().values\n",
    "        \n",
    "    player_data['avg_position_last_1_month'] = player_data_indexed.rolling('30D').relative_position.mean().values\n",
    "    player_data['avg_position_last_2_month'] = player_data_indexed.rolling('60D').relative_position.mean().values\n",
    "    player_data['avg_position_last_3_month'] = player_data_indexed.rolling('90D').relative_position.mean().values\n",
    "    \n",
    "    player_data['avg_position_last_1_tournaments'] = player_data.rolling(1).relative_position.mean().values\n",
    "    player_data['avg_position_last_2_tournaments'] = player_data.rolling(2).relative_position.mean().values\n",
    "    player_data['avg_position_last_3_tournaments'] = player_data.rolling(3).relative_position.mean().values\n",
    "    \n",
    "    player_data['days_since_last_tournament'] = (player_data.dateStart - player_data.dateStart.shift()).dt.days\n",
    "    \n",
    "    top_1_streak = (player_data.position == 1).astype(int)\n",
    "    top_1_streak = top_1_streak.cumsum() - top_1_streak.cumsum().where(top_1_streak == 0).ffill().fillna(0).astype(int)\n",
    "    \n",
    "    top_3_streak = (player_data.position <= 3).astype(int)\n",
    "    top_3_streak = top_3_streak.cumsum() - top_3_streak.cumsum().where(top_3_streak == 0).ffill().fillna(0).astype(int)\n",
    "    \n",
    "    player_data['top_1_streak'] = top_1_streak\n",
    "    player_data['top_3_streak'] = top_3_streak\n",
    "    \n",
    "    return player_data.fillna(player_data.mean())\n",
    "\n",
    "def compile_whole_sample(df):\n",
    "    results = []\n",
    "    for i, id_ in enumerate(df.player_id.unique()):\n",
    "        results.append(enrich_player_statistics(df, id_))\n",
    "    return pd.concat(results)\n",
    "\n",
    "    \n",
    "def expand_questions_row(df, row_n):\n",
    "    \"\"\"Разворачиваем повопросную маску так, чтобы для каждой пары (игрок - вопрос - ответ) была одна строчка в данных.\n",
    "    Также нумеруем вопросы. \n",
    "    \"\"\"\n",
    "    \n",
    "    row = df.iloc[row_n]\n",
    "    rounds = len(row['questionQty'])\n",
    "    questions = []\n",
    "    n = 0\n",
    "    for i, num in row['questionQty'].items():\n",
    "        for j in range(num):\n",
    "            n += 1\n",
    "            score = 0\n",
    "            if n <= len(row['mask']):\n",
    "                if row['mask'][n - 1] == '1':\n",
    "                    score = 1\n",
    "            questions.append((rounds, i, j, n, score))\n",
    "    qdf = pd.DataFrame(questions, columns=['rounds', 'round', 'question_round_number', 'question_global_number', 'score'])\n",
    "    return df.iloc[[row_n] * n].reset_index(drop=True).join(qdf)\n",
    "\n",
    "def enrich_sample_with_rows(sample):\n",
    "    return pd.concat([expand_questions_row(sample, i) for i in range(sample.shape[0])])\n",
    "\n",
    "\n",
    "def get_x(df):\n",
    "    \"\"\"Констурируем спарсную матрицу для обучения - сначала идет OHE по игрокам потом OHE по вопросам \n",
    "    \"\"\"\n",
    "    \n",
    "    N = df.shape[0]\n",
    "    M = df.question_num.max() + 1\n",
    "    \n",
    "    data = np.concatenate([np.ones(N), -np.ones(N)])\n",
    "    df_ = df.reset_index(drop=True).reset_index()\n",
    "    i = np.concatenate([df_['index'].values, df_['index'].values])\n",
    "    j = np.concatenate([df_['player_num'].values, df_['question_num'].values])\n",
    "    return coo_matrix((data, (i, j)), shape=(N, M))\n",
    "\n",
    "def get_x_for_weighted(df):\n",
    "    \"\"\"Спарсная матрица для обучения, добавляем дополнительный дублирующий блок с y_i == 1 для обучения с весами на 0 и 1\n",
    "    \"\"\"\n",
    "                          \n",
    "    N_good = df[df.score == 1].shape[0]\n",
    "    N = df.shape[0]\n",
    "    M = df.question_num.max() + 1\n",
    "    \n",
    "    data = np.concatenate([np.ones(N), -np.ones(N), np.ones(N_good), -np.ones(N_good)])\n",
    "#     data = np.ones((N_good + N) * 2)\n",
    "    df_ = df.reset_index(drop=True).reset_index()\n",
    "    df_good_ = df[df.score == 1].reset_index(drop=True).reset_index()\n",
    "    \n",
    "    i = np.concatenate([df_['index'].values, df_['index'].values, \n",
    "                        N + df_good_['index'].values, N + df_good_['index'].values])\n",
    "    \n",
    "    j = np.concatenate([df_['player_num'].values, df_['question_num'].values,\n",
    "                        df_good_['player_num'].values, df_good_['question_num'].values])\n",
    "    \n",
    "    return coo_matrix((data, (i, j)), shape=(N + N_good, M))\n",
    "\n",
    "def team_rating(players):\n",
    "    \"\"\"Считаем рейтинг команды - как вероятность того, что хотя бы один игрок ответит на вопрос.\n",
    "    \"\"\"\n",
    "                          \n",
    "    return 1 - np.prod(1 - players)\n",
    "\n",
    "def transform_prob(x, q):\n",
    "    return team_rating(sigmoid(x - q))\n",
    "\n",
    "def transform_proba_m(p, m):\n",
    "    \"\"\"Имея априорные вероятности каждого игрока ответить на вопрос, трансформируем этот вектор в апосториорные вероятности,\n",
    "    если известно что из них на вопрос ответило ровно m игроков. Для этого используем Poisson Binomial Distribution\n",
    "    \"\"\"\n",
    "    \n",
    "    pbs = [PoiBin(np.delete(p, i)) for i in range(len(p))]\n",
    "    pbs_m = np.array([x.pmf(m) for x in pbs])\n",
    "    pbs_m_1 = np.array([x.pmf(m - 1) for x in pbs])\n",
    "    return 1 / (1 + (1 - p) * pbs_m / pbs_m_1 / p)\n",
    "\n",
    "def empirical_distribution(data, n):    \n",
    "    \"\"\"Строим эмпирическое распределение по данным, использую для построение распределения сложности вопросов, чтобы далее \n",
    "    оценить вероятность того, что игрок ответит на вопрос. см team_rating_\n",
    "    \"\"\"                      \n",
    "                          \n",
    "    space = np.linspace(min(data), max(data), n + 1)\n",
    "    distrib = [data[(data >= space[i]) & (data < space[i + 1])] for i in range(n)]\n",
    "    return [(a.mean(), len(a) / len(data)) for a in distrib if not np.isnan(a.mean()) and len(a) / len(data) > 0]\n",
    "                          \n",
    "def team_rating_(xx, question_hardness_distrib):\n",
    "    \"\"\"Берем интеграл от вероятности команды ответить на вопрос по распределению сложности вопросов.\n",
    "    \"\"\"                      \n",
    "                          \n",
    "    y = xx.apply(lambda x: sum(np.array([transform_prob(x, q) * p for q, p in question_hardness_distrib])))\n",
    "    y = y.reset_index()\n",
    "    y.columns = ['tournament_id', 'team_id', 'team_rating']\n",
    "    return y\n",
    "\n",
    "def tourney_rating_(xx, player_weights_distrib):\n",
    "    \"\"\"Берем интеграл от вероятности команды ответить на вопрос по распределению силы игроков.\n",
    "    \"\"\"                      \n",
    "                          \n",
    "    y = xx.apply(lambda q: sum(np.array([transform_prob(w, q) * p for w, p in player_weights_distrib])))\n",
    "    y = y.reset_index()\n",
    "    y.columns = ['tournament_id', 'tourney_rating']\n",
    "    return y\n",
    "\n",
    "def compute_model_scores(model, test_data, name):\n",
    "    \"\"\"Считаем основные метрики модели. Для этого сортируем команды в соответствие описанной процедуры вычисления вероятности\n",
    "    команды ответить на вопрос.\n",
    "    \"\"\"    \n",
    "                          \n",
    "    question_hardness_distrib = empirical_distribution(model.coef_[0][n_players:], 20)\n",
    "    xdf = pd.merge(train_data[['player_num', 'player_id']],\n",
    "                   pd.DataFrame({'player_num': range(n_players), 'player_rating': model.coef_[0][:n_players]}))\n",
    "    xdf = xdf.drop_duplicates()\n",
    "    \n",
    "    test_df = pd.merge(test_data, xdf[['player_id', 'player_rating']].drop_duplicates(), how='left')\n",
    "    test_df = test_df.fillna(test_df.player_rating.mean())\n",
    "\n",
    "    x_ = test_df.groupby(['tournament_id']).team_id.unique().apply(lambda x: sorted(list(x)))\n",
    "    \n",
    "    teams = test_df.groupby(['tournament_id', 'team_id']).apply(lambda x: np.array(x.groupby(['player_id']).player_rating.min()))\n",
    "    \n",
    "    pool = mp.Pool(36)\n",
    "    y_ = pd.concat(pool.map(partial(team_rating_, question_hardness_distrib=question_hardness_distrib), np.array_split(teams, 36)))\n",
    "    pool.close()\n",
    "    \n",
    "    y_ = y_.groupby(['tournament_id']).apply(lambda x: list(x.sort_values(['team_rating'], ascending=False).team_id))\n",
    "    \n",
    "    scores = pd.DataFrame({'x':x_, 'y':y_}).apply(lambda r: np.array([spearmanr(r.x, r.y)[0], kendalltau(r.x, r.y)[0]]), axis=1).mean()\n",
    "    print(f'{name}: spearmanr: {scores.x}, kendalltau: {scores.y}')\n",
    "    return (scores.x, scores.y)\n",
    "\n",
    "def construct_scores(question_answered_index, player_prob_answer, n):\n",
    "    \"\"\"По сути это E шаг EM алгоритма. Новые скоры считаем так: берем m = E[количество вопросов на которые ответит команда]\n",
    "    Далее пересчитываем y_i = P( y_i = 1 | ответило m игроков из команды )\n",
    "    Предположим что ответ на вопрос это i.i.d., поэтому можно сказать что \n",
    "    E[количество вопросов на которые ответит команда] = SUM(P( y_i = 1)), в качестве этой вероятности используем предсказания модели.\n",
    "    При этом мы знаем, что хотя бы один игрок из команды ответил на вопрос, поэтому min(m) = 1\n",
    "    \"\"\"                      \n",
    "                          \n",
    "    y = np.zeros(n)\n",
    "    \n",
    "    for i in range(question_answered_index.shape[0]):\n",
    "        prob = player_prob_answer[question_answered_index.iloc[i]]\n",
    "\n",
    "        m = np.int(max(np.round(sum(prob)), 1)) \n",
    "        \n",
    "        if m == len(prob):\n",
    "            y[question_answered_index.iloc[i]] = 0.99\n",
    "        else:\n",
    "            y[question_answered_index.iloc[i]] = transform_proba_m(prob, m)\n",
    "\n",
    "    return y\n",
    "\n",
    "def compute_tournaments_hardness(train_data, model, player_weights_distrib):\n",
    "    dq = pd.DataFrame({'question_num': range(n_players, n_players + n_questions), 'question_hardness': model.coef_[0][n_players:]})\n",
    "    dq = pd.merge(train_data, dq)\n",
    "    tourneys = dq.groupby(['tournament_id']).apply(lambda x: np.array(x.groupby(['question_num']).question_hardness.min()))\n",
    "    return tourney_rating_(tourneys, player_weights_distrib).sort_values(['tourney_rating']).reset_index(drop=True)"
   ]
  },
  {
   "cell_type": "markdown",
   "metadata": {},
   "source": [
    "Делаем еще различный препроцессинг в итоге получаем два Датасета - train_data и test_data со всей нужной информацией. А также подготовленные матрицы X для baseline модели и X_weighted для EM алгоритма. "
   ]
  },
  {
   "cell_type": "code",
   "execution_count": 14,
   "metadata": {
    "collapsed": true
   },
   "outputs": [
    {
     "name": "stderr",
     "output_type": "stream",
     "text": [
      "/home/s.yarkin/venv3/lib/python3.6/site-packages/ipykernel_launcher.py:8: SettingWithCopyWarning: \n",
      "A value is trying to be set on a copy of a slice from a DataFrame.\n",
      "Try using .loc[row_indexer,col_indexer] = value instead\n",
      "\n",
      "See the caveats in the documentation: http://pandas.pydata.org/pandas-docs/stable/indexing.html#indexing-view-versus-copy\n",
      "  \n",
      "/home/s.yarkin/venv3/lib/python3.6/site-packages/ipykernel_launcher.py:9: SettingWithCopyWarning: \n",
      "A value is trying to be set on a copy of a slice from a DataFrame.\n",
      "Try using .loc[row_indexer,col_indexer] = value instead\n",
      "\n",
      "See the caveats in the documentation: http://pandas.pydata.org/pandas-docs/stable/indexing.html#indexing-view-versus-copy\n",
      "  if __name__ == '__main__':\n",
      "/home/s.yarkin/venv3/lib/python3.6/site-packages/ipykernel_launcher.py:10: SettingWithCopyWarning: \n",
      "A value is trying to be set on a copy of a slice from a DataFrame.\n",
      "Try using .loc[row_indexer,col_indexer] = value instead\n",
      "\n",
      "See the caveats in the documentation: http://pandas.pydata.org/pandas-docs/stable/indexing.html#indexing-view-versus-copy\n",
      "  # Remove the CWD from sys.path while we load stuff.\n"
     ]
    }
   ],
   "source": [
    "# sample = compile_whole_sample(df)\n",
    "pool = mp.Pool(36)\n",
    "sample_by_rows = pd.concat(pool.map(enrich_sample_with_rows, np.array_split(df, 36)))\n",
    "pool.close()\n",
    "train_data = sample_by_rows.loc[sample_by_rows.dateStart.dt.year == 2019]\n",
    "test_data = sample_by_rows.loc[sample_by_rows.dateStart.dt.year == 2020]\n",
    "\n",
    "train_data['row_id'] = range(train_data.shape[0])\n",
    "train_data['player_num'] = train_data.groupby(['player_id']).ngroup()\n",
    "train_data['question_num'] = train_data.groupby(['tournament_id', 'question_global_number']).ngroup() + train_data.player_num.max() + 1\n",
    "n_players = train_data.player_num.max() + 1\n",
    "n_questions = train_data.question_num.max() + 1\n",
    "train_data_good = train_data[train_data.score==1]\n",
    "\n",
    "question_answered_index = train_data[train_data.score == 1].groupby(['tournament_id', 'team_id', 'question_num'])['row_id'].apply(np.array)\n",
    "X = get_x(train_data)\n",
    "X_weighted = get_x_for_weighted(train_data)\n",
    "target = np.concatenate([train_data['score'], np.zeros(train_data_good.shape[0])])"
   ]
  },
  {
   "cell_type": "code",
   "execution_count": 15,
   "metadata": {},
   "outputs": [
    {
     "data": {
      "text/plain": [
       "LogisticRegression(class_weight='balanced', fit_intercept=False, max_iter=1000)"
      ]
     },
     "execution_count": 15,
     "metadata": {},
     "output_type": "execute_result"
    }
   ],
   "source": [
    "baseline_model = LogisticRegression(class_weight='balanced', fit_intercept=False, max_iter=1000)\n",
    "baseline_model.fit(X, train_data['score'])"
   ]
  },
  {
   "cell_type": "markdown",
   "metadata": {},
   "source": [
    "Итак наша вероятностная модель будет устроена следующим образом: пусть \n",
    "$$P(player_i \\quad answers \\quad question_j) = \\sigma(w_i - q_j) = \\frac{1}{1 + e^{-(w_i - q_j)}}$$\n",
    "\n",
    "где $w_i$ и $q_j$ можно проинтерпретировать как \"силу\" i-го игрока и \"сложность\" j-го вопроса соответственно. Для того, чтобы получить эти коэффициенты мы обучаем логистическую регрессии на подготовленных данных, а  где каждая строка будет представлять один факт ответа или неответа игрока на вопрос. После обучения, коэффициенты модели и будут представлять из себя искомые значения."
   ]
  },
  {
   "cell_type": "markdown",
   "metadata": {},
   "source": [
    "Полученную силу игроков и сложность вопросов мы можем использовать для построение рейтинга команды как вероятность команды ответить на вопрос. Но на какой вопрос? Я пробовал брать средний, сложны и тп, кстати сложный работал лучше чем средний. В итоге я пришел к выводу что нет смысла брать ответ на определенный вопрос, лучше построить рейтинг команды T как матожидание вероятности ответить на вопрос и разложить его по распределению сложности вопросов:\n",
    "$$E[T=1] = \\int_{-\\infty}^{+\\infty}E[T=1|q]p(q)dq = \\int_{-\\infty}^{+\\infty}P[T=1|q]p(q)dq = \\int_{-\\infty}^{+\\infty}(1 - (\\prod_{i=0}^{|T|}(1-P(p_i=1|q))))p(q)dq = $$\n",
    "$$= \\int_{-\\infty}^{+\\infty}(1 - (\\prod_{i=0}^{|T|}(1-\\sigma(w_i - q)))p(q)dq$$"
   ]
  },
  {
   "cell_type": "markdown",
   "metadata": {},
   "source": [
    "Теперь нужно как то узнать распределение сложности вопросов q... Для этого я воспользовался обученными весами, и построил эмпирическое распределение сложности по той же модели. К примеру можно посмотреть на это распределение для модели baseline:"
   ]
  },
  {
   "cell_type": "code",
   "execution_count": 26,
   "metadata": {},
   "outputs": [
    {
     "data": {
      "image/png": "[encoded data removed]",
      "text/plain": [
       "<Figure size 432x288 with 1 Axes>"
      ]
     },
     "metadata": {
      "needs_background": "light"
     },
     "output_type": "display_data"
    }
   ],
   "source": [
    "_ = plt.hist(baseline_model.coef_[0][n_players:], bins=40, density=True)"
   ]
  },
  {
   "cell_type": "markdown",
   "metadata": {},
   "source": [
    "Тут кстати интересно, по-идее можно уточнить это распределение с учетом к примеру типа турнира или его численности. Тогда наверное можно использовать более точные распределения для оценки рейтинга, ясно что на сложном турнире будет преимущество у той команды, где есть хотя бы один очень сильный игрок, а на простом будет у той, где просто много средних игроков. Но до этого уже не дошли руки."
   ]
  },
  {
   "cell_type": "markdown",
   "metadata": {},
   "source": [
    "Для EM алгоритма я выбрал следующую схему. Мы знаем, что в команде точно кто то ответил на вопрос, если есть запись что команда ответила на вопрос. Но кто? Кто именно мы не можем узнать. Но давайте предположим, что мы знаем хотя бы количество тех кто знал ответ на вопрос. Это и будут наши скрытые переменные $z_n$. Но тогда, зная что из |T| игроков на вопрос ответили $z_n$ игроков из них, и зная априорные вероятности каждого из игроков ответить на этот вопрос (которые мы возьмем из предсказаний модели, ведь именно это она и оценивает), мы можем построить апосториорную вероятность того, что игрок ответил на вопрос:\n",
    "$$P(player_i \\quad answers \\quad question_j | z_n) = P(p_i=1|q_j,z_n) =$$\n",
    "$$$$\n",
    "$$= \\frac{P(z_n|p_i=1,q_j)P(p_i=1|q_j)}{P(z_n|p_i=1,q_j)P(p_i=1|q_j)+P(z_n|p_i=0,q_j)P(p_i=0|q_j)} = $$\n",
    "$$$$\n",
    "$$= \\frac{P(z_n|p_i=1)\\sigma(w_i - q_j)}{P(z_n|p_i=1)\\sigma(w_i - q_j)+P(z_n|p_i=0)(1 - \\sigma(w_i - q_j))}$$\n",
    "$$$$\n",
    "$$P(z_n|p_i=1) = PoissonBinomialDistributionPMF(p_1,p_2,...,p_{|T|}(exlude \\quad p_i),k=z_n-1)$$\n",
    "$$P(z_n|p_i=0) = PoissonBinomialDistributionPMF(p_1,p_2,...,p_{|T|}(exlude \\quad p_i),k=z_n)$$"
   ]
  },
  {
   "cell_type": "markdown",
   "metadata": {},
   "source": [
    "Итак, на E шаге оцениваем: $$z_n=E[T=1|q_j]=\\sum_{i=0}^{|T|}E[p_i=1|q_j]=\\sum_{i=0}^{|T|}P(p_i=1|q_j)=\\sum_{i=0}^{|T|}\\sigma(w_i - q_j)$$"
   ]
  },
  {
   "cell_type": "markdown",
   "metadata": {},
   "source": [
    "На M шаге - пересчитываем $y_i=P(p_i=1|z_n)$ для тех случаев, когда команда ответила на вопрос, и используем полученные вероятности в качестве весов для переобучения логистической регрессии."
   ]
  },
  {
   "cell_type": "code",
   "execution_count": 54,
   "metadata": {},
   "outputs": [
    {
     "name": "stdout",
     "output_type": "stream",
     "text": [
      "Baseline Model:\n",
      "train: spearmanr: 0.8226325775265949, kendalltau: 0.6573463450639639\n",
      "test: spearmanr: 0.7013810964132426, kendalltau: 0.5406494769389477\n",
      "EM iteration 1:\n",
      "train: spearmanr: 0.828546744904034, kendalltau: 0.6639129054406849\n",
      "test: spearmanr: 0.7055791124570412, kendalltau: 0.5443588345473775\n",
      "EM iteration 2:\n",
      "train: spearmanr: 0.8316790932082293, kendalltau: 0.6673905544172395\n",
      "test: spearmanr: 0.7047837220386347, kendalltau: 0.5434115877746017\n",
      "EM iteration 3:\n",
      "train: spearmanr: 0.8333873993825741, kendalltau: 0.6692043052660832\n",
      "test: spearmanr: 0.7044762737368778, kendalltau: 0.5436310821467004\n",
      "EM iteration 4:\n",
      "train: spearmanr: 0.8355050089444483, kendalltau: 0.6717088709693477\n",
      "test: spearmanr: 0.7007887267149332, kendalltau: 0.5388304923735747\n",
      "EM iteration 5:\n",
      "train: spearmanr: 0.8370820551988446, kendalltau: 0.6733333080063378\n",
      "test: spearmanr: 0.7012029941335657, kendalltau: 0.5389760773171687\n"
     ]
    }
   ],
   "source": [
    "current_model = baseline_model\n",
    "\n",
    "print(\"Baseline Model:\")\n",
    "models = [(baseline_model, \n",
    "           compute_model_scores(baseline_model, train_data, 'train'), \n",
    "           compute_model_scores(baseline_model, test_data, 'test'))]\n",
    "\n",
    "player_prob_answer = current_model.predict_proba(X)[:,1]\n",
    "\n",
    "for i in range(1, 6):\n",
    "    print(f\"EM iteration {i}:\")\n",
    "    pool = mp.Pool(36)\n",
    "    y = np.sum(pool.map(partial(construct_scores, player_prob_answer=player_prob_answer, n=train_data.score.shape),\n",
    "                        np.array_split(question_answered_index, 36)), axis=0)\n",
    "    pool.close()                              \n",
    "    weights = np.concatenate([y, 1 - y[train_data_good.row_id]])\n",
    "    weights[train_data[train_data.score == 0].row_id] = 1\n",
    "    \n",
    "    current_model = LogisticRegression(class_weight='balanced', fit_intercept=False, max_iter=1000)\n",
    "    current_model.fit(X_weighted, target, sample_weight=weights)\n",
    "    \n",
    "    player_prob_answer = current_model.predict_proba(X)[:,1]\n",
    "    \n",
    "    models.append((current_model, \n",
    "                   compute_model_scores(current_model, train_data, 'train'), \n",
    "                   compute_model_scores(current_model, test_data, 'test')))"
   ]
  },
  {
   "cell_type": "code",
   "execution_count": 55,
   "metadata": {},
   "outputs": [
    {
     "data": {
      "text/plain": [
       "<matplotlib.legend.Legend at 0x7f31806be4e0>"
      ]
     },
     "execution_count": 55,
     "metadata": {},
     "output_type": "execute_result"
    },
    {
     "data": {
      "image/png": "[encoded data removed]",
      "text/plain": [
       "<Figure size 576x360 with 1 Axes>"
      ]
     },
     "metadata": {
      "needs_background": "light"
     },
     "output_type": "display_data"
    }
   ],
   "source": [
    "plt.figure(figsize=(8,5))\n",
    "plt.plot([m[1][0] for m in models], label='train (2019)')\n",
    "plt.plot([m[1][0] for m in models], 'bo')\n",
    "plt.plot([m[2][0] for m in models], label='test (2020)')\n",
    "plt.plot([m[2][0] for m in models], 'yo')\n",
    "plt.grid(True)\n",
    "plt.legend()"
   ]
  },
  {
   "cell_type": "markdown",
   "metadata": {},
   "source": [
    "Итак мы видим, что EM алгоритм действительно сходится - с каждым шагом он улучшает метрики на train'е, т.е. он оптимизирует рейтинг систему на тех данных, на которых он обучается. Но к сожалению, на test'е происходит переобучение уже после первой итерации. Поэтому если мы хотим получить некоторый рейтинг по итогам 2019 года - то можно обучать модель и дальше и интерпретировать эти результаты соотвественно как успех игроков за прошедший год. Но вот если мы хотим предсказывать результаты новых турниров, то лучше взять первую модель. Хочется посмотреть на то, что в итоге наобучал EM алгоритм, поэтому возьму модель с последней итерации, тем более что на тесте метрики все равно еще не так сильно просели."
   ]
  },
  {
   "cell_type": "code",
   "execution_count": 116,
   "metadata": {},
   "outputs": [],
   "source": [
    "chosen_model = models[-1][0]"
   ]
  },
  {
   "cell_type": "markdown",
   "metadata": {},
   "source": [
    "Теперь давайте построим рейтинг лист турниров по сложности вопросов, воспользуемся тем же трюком: возьмем эмпирическое распределение силы игроков, и проинтегрируем по этому распределению находя вероятность того, что вопрос останется без ответа, по каждому вопросу в турнире."
   ]
  },
  {
   "cell_type": "code",
   "execution_count": 117,
   "metadata": {},
   "outputs": [],
   "source": [
    "player_weights = chosen_model.coef_[0][:n_players]\n",
    "player_weights_distrib = empirical_distribution(player_weights, 20)"
   ]
  },
  {
   "cell_type": "code",
   "execution_count": 118,
   "metadata": {},
   "outputs": [
    {
     "data": {
      "image/png": "[encoded data removed]",
      "text/plain": [
       "<Figure size 432x288 with 1 Axes>"
      ]
     },
     "metadata": {
      "needs_background": "light"
     },
     "output_type": "display_data"
    }
   ],
   "source": [
    "_ = plt.hist(player_weights, bins=40, density=True)"
   ]
  },
  {
   "cell_type": "code",
   "execution_count": 119,
   "metadata": {},
   "outputs": [],
   "source": [
    "thdf = compute_tournaments_hardness(train_data, chosen_model, player_weights_distrib)"
   ]
  },
  {
   "cell_type": "code",
   "execution_count": 120,
   "metadata": {},
   "outputs": [
    {
     "name": "stdout",
     "output_type": "stream",
     "text": [
      "Top 10 самых сложных турниров:\n",
      "6149 Чемпионат Санкт-Петербурга. Первая лига\n",
      "5928 Угрюмый Ёрш\n",
      "5684 Синхрон высшей лиги Москвы\n",
      "5947 Чемпионат Мира. Этап 3. Группа С\n",
      "5946 Чемпионат Мира. Этап 3. Группа В\n",
      "6101 Воображаемый музей\n",
      "5741 All Cats Are Beautiful\n",
      "5950 Чемпионат Мира. Финал. Группа С\n",
      "5996 Тихий Донец: омут первый\n",
      "5943 Чемпионат Мира. Этап 2 Группа С\n"
     ]
    }
   ],
   "source": [
    "print(\"Top 10 самых сложных турниров:\")\n",
    "for t_id in thdf.tournament_id[:10]:\n",
    "    print(t_id, tournaments[t_id]['name'])"
   ]
  },
  {
   "cell_type": "code",
   "execution_count": 121,
   "metadata": {},
   "outputs": [
    {
     "name": "stdout",
     "output_type": "stream",
     "text": [
      "Top 10 самых простых турниров:\n",
      "5488 Чемпионат Беларуси среди школьников\n",
      "6008 Малый кубок Физтеха\n",
      "5457 Студенческий чемпионат Калининградской области\n",
      "6011 Щит и Меч\n",
      "5660 Первая лига ЧТ\n",
      "5405 Кавалькада волхвов\n",
      "5706 (а)Синхрон-lite. Лига старта. Эпизод XI\n",
      "5592 Студенческая лига ЧТ\n",
      "6090 Дзержинский марафон\n",
      "5827 Шестой киевский марафон. Асинхрон\n"
     ]
    }
   ],
   "source": [
    "print(\"Top 10 самых простых турниров:\")\n",
    "for t_id in thdf.tournament_id[-10:]:\n",
    "    print(t_id, tournaments[t_id]['name'])"
   ]
  },
  {
   "cell_type": "markdown",
   "metadata": {},
   "source": [
    "Кажется все получилось логично, самые сложные турниры - это разные чемпионаты мира. А турнир Угрюмый Ерш вообще полностью называется Угрюмый Ёрш 2: Невыносимая сложность (https://rating.chgk.info/tournament/5928) что довольно забавно."
   ]
  },
  {
   "cell_type": "code",
   "execution_count": null,
   "metadata": {},
   "outputs": [],
   "source": []
  },
  {
   "cell_type": "markdown",
   "metadata": {},
   "source": [
    "Далее я построю рейтинг игроков вместе с количество вопросов, на которые они ответили"
   ]
  },
  {
   "cell_type": "code",
   "execution_count": 122,
   "metadata": {},
   "outputs": [],
   "source": [
    "xdf = pd.merge(train_data[['player_num', 'player_id']],\n",
    "               pd.DataFrame({'player_num': range(n_players), 'player_rating': chosen_model.coef_[0][:n_players]}))\n",
    "xdf = xdf.drop_duplicates()\n",
    "players = pd.merge(train_data, xdf[['player_id', 'player_rating']].drop_duplicates(), how='left')\n",
    "players['question_played'] = players.groupby(['player_id']).question_num.transform('nunique')"
   ]
  },
  {
   "cell_type": "code",
   "execution_count": 123,
   "metadata": {},
   "outputs": [],
   "source": [
    "players = players[['player_id', 'player_rating', 'question_played']].drop_duplicates()"
   ]
  },
  {
   "cell_type": "code",
   "execution_count": 124,
   "metadata": {},
   "outputs": [],
   "source": [
    "players_data = joblib.load('chgk/players.pkl')"
   ]
  },
  {
   "cell_type": "code",
   "execution_count": 125,
   "metadata": {},
   "outputs": [
    {
     "name": "stdout",
     "output_type": "stream",
     "text": [
      "player_id \t\t\t\t questions played \t  name\n",
      "https://rating.chgk.info/player/220618\t 270 \t\t\t Елена Вергизаева\n",
      "https://rating.chgk.info/player/62252\t 652 \t\t\t Тимур Боков\n",
      "https://rating.chgk.info/player/82688\t 396 \t\t\t Игорь Калгин\n",
      "https://rating.chgk.info/player/36910\t 513 \t\t\t Иван Эйхгольц\n",
      "https://rating.chgk.info/player/82696\t 432 \t\t\t Денис Заднепровский\n",
      "https://rating.chgk.info/player/27403\t 3059 \t\t\t Максим Руссо\n",
      "https://rating.chgk.info/player/12307\t 791 \t\t\t Светлана Иванцова\n",
      "https://rating.chgk.info/player/22474\t 75 \t\t\t Илья Немец\n",
      "https://rating.chgk.info/player/2998\t 830 \t\t\t Алексей Белоглазов\n",
      "https://rating.chgk.info/player/28362\t 504 \t\t\t Михаил Сафронов\n",
      "https://rating.chgk.info/player/24384\t 2037 \t\t\t Евгений Пашковский\n",
      "https://rating.chgk.info/player/202093\t 252 \t\t\t Дмитрий Андреев\n",
      "https://rating.chgk.info/player/30631\t 252 \t\t\t Станислав Стребков\n",
      "https://rating.chgk.info/player/24779\t 1053 \t\t\t Орест Петросянц\n",
      "https://rating.chgk.info/player/34846\t 2096 \t\t\t Антон Чернин\n",
      "https://rating.chgk.info/player/21428\t 336 \t\t\t Вадим Молдавский\n",
      "https://rating.chgk.info/player/17034\t 1031 \t\t\t Егор Кузьменко\n",
      "https://rating.chgk.info/player/28751\t 4847 \t\t\t Иван Семушин\n",
      "https://rating.chgk.info/player/30475\t 1680 \t\t\t Владимир Степанов\n",
      "https://rating.chgk.info/player/41170\t 760 \t\t\t Семён Легашов\n",
      "https://rating.chgk.info/player/18036\t 1740 \t\t\t Михаил Левандовский\n",
      "https://rating.chgk.info/player/4270\t 3755 \t\t\t Александра Брутер\n",
      "https://rating.chgk.info/player/102951\t 828 \t\t\t Павел Якубович\n",
      "https://rating.chgk.info/player/37746\t 861 \t\t\t Александр Романов\n",
      "https://rating.chgk.info/player/222060\t 270 \t\t\t Юлия Иванова\n",
      "https://rating.chgk.info/player/7008\t 5403 \t\t\t Алексей Гилёв\n",
      "https://rating.chgk.info/player/18332\t 4505 \t\t\t Александр Либер\n",
      "https://rating.chgk.info/player/37047\t 644 \t\t\t Мария Юнгер\n",
      "https://rating.chgk.info/player/49318\t 315 \t\t\t Алексей Рудаков\n",
      "https://rating.chgk.info/player/30152\t 6073 \t\t\t Артём Сорожкин\n",
      "https://rating.chgk.info/player/26500\t 324 \t\t\t Ольга Юдина\n",
      "https://rating.chgk.info/player/20207\t 1033 \t\t\t Михаил Матвеев\n",
      "https://rating.chgk.info/player/34328\t 507 \t\t\t Михаил Царёв\n",
      "https://rating.chgk.info/player/22799\t 2505 \t\t\t Сергей Николенко\n",
      "https://rating.chgk.info/player/26089\t 1351 \t\t\t Ирина Прокофьева\n",
      "https://rating.chgk.info/player/52820\t 2012 \t\t\t Екатерина Баранова\n",
      "https://rating.chgk.info/player/18194\t 1181 \t\t\t Мария Кленницкая\n",
      "https://rating.chgk.info/player/15683\t 1391 \t\t\t Сергей Корнев\n",
      "https://rating.chgk.info/player/101766\t 372 \t\t\t Владислав Щипцов\n",
      "https://rating.chgk.info/player/23290\t 789 \t\t\t Мария Эйхгольц\n",
      "https://rating.chgk.info/player/87637\t 1530 \t\t\t Антон Саксонов\n",
      "https://rating.chgk.info/player/27822\t 4460 \t\t\t Михаил Савченков\n",
      "https://rating.chgk.info/player/33032\t 3998 \t\t\t Татьяна Фёдорова\n",
      "https://rating.chgk.info/player/217540\t 252 \t\t\t Константин Косачёв\n",
      "https://rating.chgk.info/player/16609\t 1400 \t\t\t Сергей Крупник\n",
      "https://rating.chgk.info/player/37781\t 888 \t\t\t Анна Мурина\n",
      "https://rating.chgk.info/player/56647\t 2429 \t\t\t Наталья Горелова\n",
      "https://rating.chgk.info/player/217224\t 252 \t\t\t Юлия Исмайылова\n",
      "https://rating.chgk.info/player/4226\t 749 \t\t\t Сусанна Бровер\n",
      "https://rating.chgk.info/player/30270\t 4991 \t\t\t Сергей Спешков\n"
     ]
    }
   ],
   "source": [
    "print(f'player_id \\t\\t\\t\\t questions played \\t  name')\n",
    "for r in players.sort_values(['player_rating'], ascending=False)[['player_id', 'question_played']].iloc[:50].values:\n",
    "    name, surname = players_data[r[0]]['name'], players_data[r[0]]['surname']\n",
    "    print(f'https://rating.chgk.info/player/{r[0]}\\t {r[1]} \\t\\t\\t {name} {surname}')"
   ]
  },
  {
   "attachments": {},
   "cell_type": "markdown",
   "metadata": {},
   "source": [
    "В топе игроков идут в перемешку и крутые и действительно \"ноунеймы\". Например Елена Вергизаева сыграла какую то ласточку и стала самым крутым игроком. Семён Легашов играл в Кубке попкорна и стал топ-3 или Илья Немец заслужил славу на кубке Хэллоуна тп. Но например у Евгений Пашковский 2000 вопросов и он действительно кажется топовый игрок из известной команды, которая кстати вся в топе. Не говоря уже, что сам Сергей Николенко попал в непосредсвенный топ =)))) а значит моя рейтинг система не обманывает =))"
   ]
  },
  {
   "cell_type": "code",
   "execution_count": null,
   "metadata": {},
   "outputs": [],
   "source": []
  },
  {
   "cell_type": "code",
   "execution_count": 138,
   "metadata": {},
   "outputs": [],
   "source": []
  },
  {
   "cell_type": "code",
   "execution_count": 131,
   "metadata": {},
   "outputs": [],
   "source": [
    "def get_x__(df, additional_columns):\n",
    "    \"\"\"Констурируем спарсную матрицу для обучения - сначала идет OHE по игрокам потом OHE по вопросам \n",
    "    \"\"\"\n",
    "    \n",
    "    N = df.shape[0]\n",
    "    M = df.question_num.max() + 1\n",
    "    \n",
    "    data = np.concatenate([np.ones(N), -np.ones(N)])\n",
    "    df_ = df.reset_index(drop=True).reset_index()\n",
    "    i = np.concatenate([df_['index'].values, df_['index'].values])\n",
    "    j = np.concatenate([df_['player_num'].values, df_['question_num'].values])\n",
    "    \n",
    "    for c in additional_columns:\n",
    "        i = np.concatenate([i, df_['index'].values])\n",
    "        j = np.concatenate([j, np.ones(df_.shape[0]) * M])\n",
    "        data = np.concatenate([data, df_[c].values])\n",
    "        M += 1\n",
    "    \n",
    "    return coo_matrix((data, (i, j)), shape=(N, M))"
   ]
  },
  {
   "cell_type": "code",
   "execution_count": null,
   "metadata": {},
   "outputs": [],
   "source": [
    "PLAYER_COLUMNS = ['tournaments_played_last_1_month', 'tournaments_played_last_2_month', 'tournaments_played_last_3_month',\n",
    "       'avg_position_last_1_month', 'avg_position_last_2_month', 'avg_position_last_3_month', \n",
    "       'avg_position_last_1_tournaments', 'avg_position_last_2_tournaments', 'avg_position_last_3_tournaments',\n",
    "       'days_since_last_tournament', 'top_1_streak', 'top_3_streak']\n",
    "\n",
    "QUESTION_COLUMNS = ['length', 'type', 'teams_count', 'rounds',\n",
    "       'round', 'question_round_number', 'question_global_number']"
   ]
  },
  {
   "cell_type": "code",
   "execution_count": null,
   "metadata": {},
   "outputs": [],
   "source": [
    "sample_with_player_data = compile_whole_sample(df)\n",
    "train_data__ = pd.merge(train_data, sample_with_player_data[['tournament_id', 'player_id'] + PLAYER_COLUMNS], how='left', on=['tournament_id', 'player_id'])\n",
    "X__ = get_x__(train_data__.fillna(0.0), PLAYER_COLUMNS)"
   ]
  },
  {
   "cell_type": "code",
   "execution_count": 113,
   "metadata": {},
   "outputs": [],
   "source": [
    "m__ = LogisticRegression(class_weight='balanced', fit_intercept=False, max_iter=1000)\n",
    "m__.fit(X__, train_data['score'])"
   ]
  },
  {
   "cell_type": "code",
   "execution_count": null,
   "metadata": {},
   "outputs": [],
   "source": [
    "m__"
   ]
  },
  {
   "cell_type": "code",
   "execution_count": null,
   "metadata": {},
   "outputs": [],
   "source": []
  },
  {
   "cell_type": "markdown",
   "metadata": {},
   "source": [
    "Вообще у меня была идея смоделировать силу игрока фичами, которые имеют отношение к игроку, и сложность вопросов фичами, которые будут иметь отношение к турниру и самим вопросам. Тут я привел те фичи, которые я подобрал. К примеру, я читал в статьях, что очень хорошая фича для игрока будет 'winning streak' - сколько он уже подряд выиграл турниров. Вся эта информация может быть посчитана и на тесте, ведь ко дню проведения турнира нам уже известны все истинные результаты предыдущих турниров. "
   ]
  },
  {
   "cell_type": "markdown",
   "metadata": {},
   "source": [
    "Я думал сделать вместо $w_i$ и $q_j$ некие линейные функции $h(x)$ и $g(x)$, и обучить модель $P(p_i=1|q_j) = \\sigma(h(x) - g(x))$"
   ]
  },
  {
   "cell_type": "markdown",
   "metadata": {},
   "source": [
    "Но к сожалению, больше не успел сделать. Задание очень интересное, но достаточно сложное, конечно =) Спасибо"
   ]
  }
 ],
 "metadata": {
  "kernelspec": {
   "display_name": "Python 3",
   "language": "python",
   "name": "python3"
  },
  "language_info": {
   "codemirror_mode": {
    "name": "ipython",
    "version": 3
   },
   "file_extension": ".py",
   "mimetype": "text/x-python",
   "name": "python",
   "nbconvert_exporter": "python",
   "pygments_lexer": "ipython3",
   "version": "3.6.8"
  }
 },
 "nbformat": 4,
 "nbformat_minor": 4
}
